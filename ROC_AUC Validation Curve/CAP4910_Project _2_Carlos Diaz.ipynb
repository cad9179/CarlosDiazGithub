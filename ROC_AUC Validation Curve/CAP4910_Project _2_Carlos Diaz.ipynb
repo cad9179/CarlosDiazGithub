{
 "cells": [
  {
   "cell_type": "markdown",
   "metadata": {},
   "source": [
    "# CAP4910 | Capstone | Project 2 | Carlos Diaz"
   ]
  },
  {
   "cell_type": "markdown",
   "metadata": {},
   "source": [
    "# Survival Years of Patients with Diffuse Large B-Cell Lymphoma"
   ]
  },
  {
   "cell_type": "markdown",
   "metadata": {},
   "source": [
    "---\n",
    "\n",
    "## Objective\n",
    "### In this project we will improve the machine learning models using Grid Search by finding \"the optimal combination of hyperparameter values\", to predict the survival rates of patients with difuse Large B_Cell Lymphoma."
   ]
  },
  {
   "cell_type": "markdown",
   "metadata": {},
   "source": [
    "Selected the data of patients with Diffuse Large B-Cell Lymphoma, which is the most frequent type of lymphoma. “Lymphoma is a group of blood cancers that develop from lymphocytes...Signs and symptoms include enlarged lymph nodes, fever, drenching sweats, unintended weight loss, itching and constantly feeling tired”. The data comes from cBioPortal for Cancer Genomics (Duke, Cell 2017) https://www.cbioportal.org/. "
   ]
  },
  {
   "cell_type": "markdown",
   "metadata": {},
   "source": [
    "https://www.cbioportal.org/about"
   ]
  },
  {
   "cell_type": "markdown",
   "metadata": {},
   "source": [
    "Changed the name of data for lymphoma data and selected the following columns to start working:\n",
    "- Patient Identifier \n",
    "- Sex: Male or Female\n",
    "- Age at Diagnosis\n",
    "- Initial Treatment Response: Partial response, No response, Complete response.\n",
    "- B Symptoms at Diagnosis: Yes, No. (fever, night sweats, and weight loss).\n",
    "- Testicular Involvement: Yes, No, Female.\n",
    "- CNS Status: Yes, No. (Central Nervous System)\n",
    "- CNS Relapse: Yes, No.\n",
    "- Overall Survival Months.\n",
    "- IPI: International Prognostic Index, score to assets severity of the lymphoma. The IPI includes: Age, Ann Arbor stage III-IV, ECOG performance status and LDH Factor.\n",
    "- ECOG IPI Score: Easter Cooperative Oncology Group, performance scale for functional status. ECOG performance status >= 2 , No =0, Yes = 1. \n",
    "\n",
    "ECOG describes a patient’s level of functioning in terms of their ability to care for themselves, daily activity, and physical ability."
   ]
  },
  {
   "cell_type": "markdown",
   "metadata": {},
   "source": [
    "| ECOG Scale | ECOG Description                                                                                                                                          |\n",
    "|------------|-----------------------------------------------------------------------------------------------------------------------------------------------------------|\n",
    "| 0          | Fully active, able to carry on all pre-disease performance without restriction                                                                            |\n",
    "| 1          | Restricted in physically strenuous activity but ambulatory and able to carry out work of a light or sedentary nature, e.g., light house work, office work |\n",
    "| 2          | Ambulatory and capable of all self-care but unable to carry out any work activities. Up and about more than 50% of waking hours                           |\n",
    "| 3          | Capable of only limited self-care, confined to bed or chair more than 50% of waking hours                                                                 |\n",
    "| 4          | Completely disabled. Cannot carry on any self-care. Totally confined to bed or chair.                                                                     |\n",
    "| 5          | Dead                                                                                                                                                      |"
   ]
  },
  {
   "cell_type": "markdown",
   "metadata": {},
   "source": [
    "Deleted the IPI factor because it contains the sum of all of the IPIs.\n",
    "- BCL2 Fish Status: Method to detect abnormal protein BCL2.\n",
    "- MYC Fish Status: Method to detect abnormal protein MYC.\n",
    "- BCL6 Fish Status: Method to detect abnormal protein BCL6.\n",
    "\n",
    "NOTE: I deleted these three columns: BCL2, MYC, BCL6 because they have more than 88% of Nan."
   ]
  },
  {
   "cell_type": "markdown",
   "metadata": {},
   "source": [
    "I also deleted the Patient Identifier"
   ]
  },
  {
   "cell_type": "code",
   "execution_count": 70,
   "metadata": {
    "ExecuteTime": {
     "end_time": "2020-02-29T19:48:20.721312Z",
     "start_time": "2020-02-29T19:48:17.863590Z"
    }
   },
   "outputs": [],
   "source": [
    "import pandas as pd\n",
    "import numpy as np\n",
    "import matplotlib.pyplot as plt\n",
    "import seaborn as sns\n",
    "%matplotlib inline\n",
    "\n",
    "sns.set_style('whitegrid')\n"
   ]
  },
  {
   "cell_type": "code",
   "execution_count": 71,
   "metadata": {},
   "outputs": [],
   "source": [
    "from sklearn.preprocessing import StandardScaler\n",
    "from sklearn.decomposition import PCA\n",
    "pd.options.display.max_columns = 999\n",
    "\n",
    "from sklearn.linear_model import LogisticRegression\n",
    "from sklearn.model_selection import train_test_split\n",
    "from sklearn import metrics"
   ]
  },
  {
   "cell_type": "code",
   "execution_count": 72,
   "metadata": {
    "ExecuteTime": {
     "end_time": "2020-02-29T19:48:20.741032Z",
     "start_time": "2020-02-29T19:48:20.723995Z"
    }
   },
   "outputs": [],
   "source": [
    "lymphoma_data = pd.read_csv('data_clinical_patient.csv')"
   ]
  },
  {
   "cell_type": "code",
   "execution_count": 73,
   "metadata": {
    "ExecuteTime": {
     "end_time": "2020-02-29T19:48:20.768833Z",
     "start_time": "2020-02-29T19:48:20.744411Z"
    }
   },
   "outputs": [
    {
     "data": {
      "text/html": [
       "<div>\n",
       "<style scoped>\n",
       "    .dataframe tbody tr th:only-of-type {\n",
       "        vertical-align: middle;\n",
       "    }\n",
       "\n",
       "    .dataframe tbody tr th {\n",
       "        vertical-align: top;\n",
       "    }\n",
       "\n",
       "    .dataframe thead th {\n",
       "        text-align: right;\n",
       "    }\n",
       "</style>\n",
       "<table border=\"1\" class=\"dataframe\">\n",
       "  <thead>\n",
       "    <tr style=\"text-align: right;\">\n",
       "      <th></th>\n",
       "      <th>Age.at.Diagnosis</th>\n",
       "      <th>Overall.Survival..Months.</th>\n",
       "      <th>IPI</th>\n",
       "      <th>ECOG.IPI.Score</th>\n",
       "      <th>AnnArbor.Stage.IPI</th>\n",
       "      <th>LDH.IPI.Factor</th>\n",
       "      <th>Extranodal.IPI.Factor</th>\n",
       "      <th>Age.IPI.Factor</th>\n",
       "    </tr>\n",
       "  </thead>\n",
       "  <tbody>\n",
       "    <tr>\n",
       "      <td>Age.at.Diagnosis</td>\n",
       "      <td>1.000000</td>\n",
       "      <td>-0.155393</td>\n",
       "      <td>0.301629</td>\n",
       "      <td>0.084681</td>\n",
       "      <td>0.046568</td>\n",
       "      <td>-0.017454</td>\n",
       "      <td>-0.058878</td>\n",
       "      <td>0.796415</td>\n",
       "    </tr>\n",
       "    <tr>\n",
       "      <td>Overall.Survival..Months.</td>\n",
       "      <td>-0.155393</td>\n",
       "      <td>1.000000</td>\n",
       "      <td>-0.205942</td>\n",
       "      <td>-0.228438</td>\n",
       "      <td>-0.114112</td>\n",
       "      <td>-0.062434</td>\n",
       "      <td>-0.092488</td>\n",
       "      <td>-0.145093</td>\n",
       "    </tr>\n",
       "    <tr>\n",
       "      <td>IPI</td>\n",
       "      <td>0.301629</td>\n",
       "      <td>-0.205942</td>\n",
       "      <td>1.000000</td>\n",
       "      <td>0.604818</td>\n",
       "      <td>0.685328</td>\n",
       "      <td>0.614271</td>\n",
       "      <td>0.563755</td>\n",
       "      <td>0.403872</td>\n",
       "    </tr>\n",
       "    <tr>\n",
       "      <td>ECOG.IPI.Score</td>\n",
       "      <td>0.084681</td>\n",
       "      <td>-0.228438</td>\n",
       "      <td>0.604818</td>\n",
       "      <td>1.000000</td>\n",
       "      <td>0.209956</td>\n",
       "      <td>0.273996</td>\n",
       "      <td>0.174138</td>\n",
       "      <td>0.102027</td>\n",
       "    </tr>\n",
       "    <tr>\n",
       "      <td>AnnArbor.Stage.IPI</td>\n",
       "      <td>0.046568</td>\n",
       "      <td>-0.114112</td>\n",
       "      <td>0.685328</td>\n",
       "      <td>0.209956</td>\n",
       "      <td>1.000000</td>\n",
       "      <td>0.313720</td>\n",
       "      <td>0.361192</td>\n",
       "      <td>0.063791</td>\n",
       "    </tr>\n",
       "    <tr>\n",
       "      <td>LDH.IPI.Factor</td>\n",
       "      <td>-0.017454</td>\n",
       "      <td>-0.062434</td>\n",
       "      <td>0.614271</td>\n",
       "      <td>0.273996</td>\n",
       "      <td>0.313720</td>\n",
       "      <td>1.000000</td>\n",
       "      <td>0.183865</td>\n",
       "      <td>-0.033149</td>\n",
       "    </tr>\n",
       "    <tr>\n",
       "      <td>Extranodal.IPI.Factor</td>\n",
       "      <td>-0.058878</td>\n",
       "      <td>-0.092488</td>\n",
       "      <td>0.563755</td>\n",
       "      <td>0.174138</td>\n",
       "      <td>0.361192</td>\n",
       "      <td>0.183865</td>\n",
       "      <td>1.000000</td>\n",
       "      <td>-0.019622</td>\n",
       "    </tr>\n",
       "    <tr>\n",
       "      <td>Age.IPI.Factor</td>\n",
       "      <td>0.796415</td>\n",
       "      <td>-0.145093</td>\n",
       "      <td>0.403872</td>\n",
       "      <td>0.102027</td>\n",
       "      <td>0.063791</td>\n",
       "      <td>-0.033149</td>\n",
       "      <td>-0.019622</td>\n",
       "      <td>1.000000</td>\n",
       "    </tr>\n",
       "  </tbody>\n",
       "</table>\n",
       "</div>"
      ],
      "text/plain": [
       "                           Age.at.Diagnosis  Overall.Survival..Months.  \\\n",
       "Age.at.Diagnosis                   1.000000                  -0.155393   \n",
       "Overall.Survival..Months.         -0.155393                   1.000000   \n",
       "IPI                                0.301629                  -0.205942   \n",
       "ECOG.IPI.Score                     0.084681                  -0.228438   \n",
       "AnnArbor.Stage.IPI                 0.046568                  -0.114112   \n",
       "LDH.IPI.Factor                    -0.017454                  -0.062434   \n",
       "Extranodal.IPI.Factor             -0.058878                  -0.092488   \n",
       "Age.IPI.Factor                     0.796415                  -0.145093   \n",
       "\n",
       "                                IPI  ECOG.IPI.Score  AnnArbor.Stage.IPI  \\\n",
       "Age.at.Diagnosis           0.301629        0.084681            0.046568   \n",
       "Overall.Survival..Months. -0.205942       -0.228438           -0.114112   \n",
       "IPI                        1.000000        0.604818            0.685328   \n",
       "ECOG.IPI.Score             0.604818        1.000000            0.209956   \n",
       "AnnArbor.Stage.IPI         0.685328        0.209956            1.000000   \n",
       "LDH.IPI.Factor             0.614271        0.273996            0.313720   \n",
       "Extranodal.IPI.Factor      0.563755        0.174138            0.361192   \n",
       "Age.IPI.Factor             0.403872        0.102027            0.063791   \n",
       "\n",
       "                           LDH.IPI.Factor  Extranodal.IPI.Factor  \\\n",
       "Age.at.Diagnosis                -0.017454              -0.058878   \n",
       "Overall.Survival..Months.       -0.062434              -0.092488   \n",
       "IPI                              0.614271               0.563755   \n",
       "ECOG.IPI.Score                   0.273996               0.174138   \n",
       "AnnArbor.Stage.IPI               0.313720               0.361192   \n",
       "LDH.IPI.Factor                   1.000000               0.183865   \n",
       "Extranodal.IPI.Factor            0.183865               1.000000   \n",
       "Age.IPI.Factor                  -0.033149              -0.019622   \n",
       "\n",
       "                           Age.IPI.Factor  \n",
       "Age.at.Diagnosis                 0.796415  \n",
       "Overall.Survival..Months.       -0.145093  \n",
       "IPI                              0.403872  \n",
       "ECOG.IPI.Score                   0.102027  \n",
       "AnnArbor.Stage.IPI               0.063791  \n",
       "LDH.IPI.Factor                  -0.033149  \n",
       "Extranodal.IPI.Factor           -0.019622  \n",
       "Age.IPI.Factor                   1.000000  "
      ]
     },
     "execution_count": 73,
     "metadata": {},
     "output_type": "execute_result"
    }
   ],
   "source": [
    "lymphoma_data.corr()"
   ]
  },
  {
   "cell_type": "code",
   "execution_count": 74,
   "metadata": {
    "ExecuteTime": {
     "end_time": "2020-02-29T19:48:20.783499Z",
     "start_time": "2020-02-29T19:48:20.771763Z"
    }
   },
   "outputs": [
    {
     "name": "stdout",
     "output_type": "stream",
     "text": [
      "X.Patient.Identifier | Sex | Age.at.Diagnosis | Initial.Treatment.Response | B.Symptoms.at.Diagnosis | Testicular.Involvement | CNS.Status | CNS.Relapse | Overall.Survival..Months. | IPI | ECOG.IPI.Score | AnnArbor.Stage.IPI | LDH.IPI.Factor | Extranodal.IPI.Factor | Age.IPI.Factor | BCL2.Fish.Status | MYC.Fish.Status | BCL6.Fish.Status | Cancer.Type.Detailed | "
     ]
    }
   ],
   "source": [
    "for col in lymphoma_data.columns:\n",
    "    print(col, end=' | ')"
   ]
  },
  {
   "cell_type": "code",
   "execution_count": 75,
   "metadata": {
    "ExecuteTime": {
     "end_time": "2020-02-29T19:48:20.814754Z",
     "start_time": "2020-02-29T19:48:20.786429Z"
    }
   },
   "outputs": [
    {
     "data": {
      "text/html": [
       "<div>\n",
       "<style scoped>\n",
       "    .dataframe tbody tr th:only-of-type {\n",
       "        vertical-align: middle;\n",
       "    }\n",
       "\n",
       "    .dataframe tbody tr th {\n",
       "        vertical-align: top;\n",
       "    }\n",
       "\n",
       "    .dataframe thead th {\n",
       "        text-align: right;\n",
       "    }\n",
       "</style>\n",
       "<table border=\"1\" class=\"dataframe\">\n",
       "  <thead>\n",
       "    <tr style=\"text-align: right;\">\n",
       "      <th></th>\n",
       "      <th>X.Patient.Identifier</th>\n",
       "      <th>Sex</th>\n",
       "      <th>Age.at.Diagnosis</th>\n",
       "      <th>Initial.Treatment.Response</th>\n",
       "      <th>B.Symptoms.at.Diagnosis</th>\n",
       "      <th>Testicular.Involvement</th>\n",
       "      <th>CNS.Status</th>\n",
       "      <th>CNS.Relapse</th>\n",
       "      <th>Overall.Survival..Months.</th>\n",
       "      <th>IPI</th>\n",
       "      <th>ECOG.IPI.Score</th>\n",
       "      <th>AnnArbor.Stage.IPI</th>\n",
       "      <th>LDH.IPI.Factor</th>\n",
       "      <th>Extranodal.IPI.Factor</th>\n",
       "      <th>Age.IPI.Factor</th>\n",
       "      <th>BCL2.Fish.Status</th>\n",
       "      <th>MYC.Fish.Status</th>\n",
       "      <th>BCL6.Fish.Status</th>\n",
       "      <th>Cancer.Type.Detailed</th>\n",
       "    </tr>\n",
       "  </thead>\n",
       "  <tbody>\n",
       "    <tr>\n",
       "      <td>0</td>\n",
       "      <td>DLBCL_DUKE_1008</td>\n",
       "      <td>Male</td>\n",
       "      <td>74.7</td>\n",
       "      <td>Complete response</td>\n",
       "      <td>Yes</td>\n",
       "      <td>No</td>\n",
       "      <td>No</td>\n",
       "      <td>No</td>\n",
       "      <td>13.376</td>\n",
       "      <td>3.0</td>\n",
       "      <td>0.0</td>\n",
       "      <td>1.0</td>\n",
       "      <td>1.0</td>\n",
       "      <td>0.0</td>\n",
       "      <td>1.0</td>\n",
       "      <td>NaN</td>\n",
       "      <td>NaN</td>\n",
       "      <td>NaN</td>\n",
       "      <td>Diffuse Large B-Cell Lymphoma, NOS</td>\n",
       "    </tr>\n",
       "    <tr>\n",
       "      <td>1</td>\n",
       "      <td>DLBCL_DUKE_1016</td>\n",
       "      <td>Female</td>\n",
       "      <td>87.8</td>\n",
       "      <td>Partial response</td>\n",
       "      <td>No</td>\n",
       "      <td>Female</td>\n",
       "      <td>No</td>\n",
       "      <td>No</td>\n",
       "      <td>142.880</td>\n",
       "      <td>3.0</td>\n",
       "      <td>1.0</td>\n",
       "      <td>0.0</td>\n",
       "      <td>1.0</td>\n",
       "      <td>0.0</td>\n",
       "      <td>1.0</td>\n",
       "      <td>NaN</td>\n",
       "      <td>NaN</td>\n",
       "      <td>NaN</td>\n",
       "      <td>Diffuse Large B-Cell Lymphoma, NOS</td>\n",
       "    </tr>\n",
       "    <tr>\n",
       "      <td>2</td>\n",
       "      <td>DLBCL_DUKE_2043</td>\n",
       "      <td>Female</td>\n",
       "      <td>76.6</td>\n",
       "      <td>Complete response</td>\n",
       "      <td>NaN</td>\n",
       "      <td>Female</td>\n",
       "      <td>No</td>\n",
       "      <td>NaN</td>\n",
       "      <td>279.376</td>\n",
       "      <td>3.0</td>\n",
       "      <td>0.0</td>\n",
       "      <td>1.0</td>\n",
       "      <td>1.0</td>\n",
       "      <td>0.0</td>\n",
       "      <td>1.0</td>\n",
       "      <td>NaN</td>\n",
       "      <td>NaN</td>\n",
       "      <td>NaN</td>\n",
       "      <td>Diffuse Large B-Cell Lymphoma, NOS</td>\n",
       "    </tr>\n",
       "    <tr>\n",
       "      <td>3</td>\n",
       "      <td>DLBCL_DUKE_2044</td>\n",
       "      <td>Female</td>\n",
       "      <td>70.9</td>\n",
       "      <td>Partial response</td>\n",
       "      <td>NaN</td>\n",
       "      <td>Female</td>\n",
       "      <td>No</td>\n",
       "      <td>NaN</td>\n",
       "      <td>181.184</td>\n",
       "      <td>2.0</td>\n",
       "      <td>0.0</td>\n",
       "      <td>0.0</td>\n",
       "      <td>1.0</td>\n",
       "      <td>0.0</td>\n",
       "      <td>1.0</td>\n",
       "      <td>NaN</td>\n",
       "      <td>NaN</td>\n",
       "      <td>NaN</td>\n",
       "      <td>Diffuse Large B-Cell Lymphoma, NOS</td>\n",
       "    </tr>\n",
       "    <tr>\n",
       "      <td>4</td>\n",
       "      <td>DLBCL_DUKE_2045</td>\n",
       "      <td>Male</td>\n",
       "      <td>71.5</td>\n",
       "      <td>No response</td>\n",
       "      <td>NaN</td>\n",
       "      <td>NaN</td>\n",
       "      <td>NaN</td>\n",
       "      <td>NaN</td>\n",
       "      <td>24.320</td>\n",
       "      <td>NaN</td>\n",
       "      <td>1.0</td>\n",
       "      <td>1.0</td>\n",
       "      <td>NaN</td>\n",
       "      <td>NaN</td>\n",
       "      <td>1.0</td>\n",
       "      <td>NaN</td>\n",
       "      <td>NaN</td>\n",
       "      <td>NaN</td>\n",
       "      <td>Diffuse Large B-Cell Lymphoma, NOS</td>\n",
       "    </tr>\n",
       "  </tbody>\n",
       "</table>\n",
       "</div>"
      ],
      "text/plain": [
       "  X.Patient.Identifier     Sex  Age.at.Diagnosis Initial.Treatment.Response  \\\n",
       "0      DLBCL_DUKE_1008    Male              74.7          Complete response   \n",
       "1      DLBCL_DUKE_1016  Female              87.8           Partial response   \n",
       "2      DLBCL_DUKE_2043  Female              76.6          Complete response   \n",
       "3      DLBCL_DUKE_2044  Female              70.9           Partial response   \n",
       "4      DLBCL_DUKE_2045    Male              71.5                No response   \n",
       "\n",
       "  B.Symptoms.at.Diagnosis Testicular.Involvement CNS.Status CNS.Relapse  \\\n",
       "0                     Yes                     No         No          No   \n",
       "1                      No                 Female         No          No   \n",
       "2                     NaN                 Female         No         NaN   \n",
       "3                     NaN                 Female         No         NaN   \n",
       "4                     NaN                    NaN        NaN         NaN   \n",
       "\n",
       "   Overall.Survival..Months.  IPI  ECOG.IPI.Score  AnnArbor.Stage.IPI  \\\n",
       "0                     13.376  3.0             0.0                 1.0   \n",
       "1                    142.880  3.0             1.0                 0.0   \n",
       "2                    279.376  3.0             0.0                 1.0   \n",
       "3                    181.184  2.0             0.0                 0.0   \n",
       "4                     24.320  NaN             1.0                 1.0   \n",
       "\n",
       "   LDH.IPI.Factor  Extranodal.IPI.Factor  Age.IPI.Factor BCL2.Fish.Status  \\\n",
       "0             1.0                    0.0             1.0              NaN   \n",
       "1             1.0                    0.0             1.0              NaN   \n",
       "2             1.0                    0.0             1.0              NaN   \n",
       "3             1.0                    0.0             1.0              NaN   \n",
       "4             NaN                    NaN             1.0              NaN   \n",
       "\n",
       "  MYC.Fish.Status BCL6.Fish.Status                Cancer.Type.Detailed  \n",
       "0             NaN              NaN  Diffuse Large B-Cell Lymphoma, NOS  \n",
       "1             NaN              NaN  Diffuse Large B-Cell Lymphoma, NOS  \n",
       "2             NaN              NaN  Diffuse Large B-Cell Lymphoma, NOS  \n",
       "3             NaN              NaN  Diffuse Large B-Cell Lymphoma, NOS  \n",
       "4             NaN              NaN  Diffuse Large B-Cell Lymphoma, NOS  "
      ]
     },
     "execution_count": 75,
     "metadata": {},
     "output_type": "execute_result"
    }
   ],
   "source": [
    "lymphoma_data.head()"
   ]
  },
  {
   "cell_type": "code",
   "execution_count": 76,
   "metadata": {
    "ExecuteTime": {
     "end_time": "2020-02-29T19:48:20.847962Z",
     "start_time": "2020-02-29T19:48:20.816690Z"
    }
   },
   "outputs": [
    {
     "data": {
      "text/html": [
       "<div>\n",
       "<style scoped>\n",
       "    .dataframe tbody tr th:only-of-type {\n",
       "        vertical-align: middle;\n",
       "    }\n",
       "\n",
       "    .dataframe tbody tr th {\n",
       "        vertical-align: top;\n",
       "    }\n",
       "\n",
       "    .dataframe thead th {\n",
       "        text-align: right;\n",
       "    }\n",
       "</style>\n",
       "<table border=\"1\" class=\"dataframe\">\n",
       "  <thead>\n",
       "    <tr style=\"text-align: right;\">\n",
       "      <th></th>\n",
       "      <th>X.Patient.Identifier</th>\n",
       "      <th>Sex</th>\n",
       "      <th>Age.at.Diagnosis</th>\n",
       "      <th>Initial.Treatment.Response</th>\n",
       "      <th>B.Symptoms.at.Diagnosis</th>\n",
       "      <th>Testicular.Involvement</th>\n",
       "      <th>CNS.Status</th>\n",
       "      <th>CNS.Relapse</th>\n",
       "      <th>IPI</th>\n",
       "      <th>ECOG.IPI.Score</th>\n",
       "      <th>AnnArbor.Stage.IPI</th>\n",
       "      <th>LDH.IPI.Factor</th>\n",
       "      <th>Extranodal.IPI.Factor</th>\n",
       "      <th>Age.IPI.Factor</th>\n",
       "      <th>BCL2.Fish.Status</th>\n",
       "      <th>MYC.Fish.Status</th>\n",
       "      <th>BCL6.Fish.Status</th>\n",
       "      <th>Cancer.Type.Detailed</th>\n",
       "      <th>Overall.Survival..Months.</th>\n",
       "    </tr>\n",
       "  </thead>\n",
       "  <tbody>\n",
       "    <tr>\n",
       "      <td>0</td>\n",
       "      <td>DLBCL_DUKE_1008</td>\n",
       "      <td>Male</td>\n",
       "      <td>74.7</td>\n",
       "      <td>Complete response</td>\n",
       "      <td>Yes</td>\n",
       "      <td>No</td>\n",
       "      <td>No</td>\n",
       "      <td>No</td>\n",
       "      <td>3.0</td>\n",
       "      <td>0.0</td>\n",
       "      <td>1.0</td>\n",
       "      <td>1.0</td>\n",
       "      <td>0.0</td>\n",
       "      <td>1.0</td>\n",
       "      <td>NaN</td>\n",
       "      <td>NaN</td>\n",
       "      <td>NaN</td>\n",
       "      <td>Diffuse Large B-Cell Lymphoma, NOS</td>\n",
       "      <td>13.376</td>\n",
       "    </tr>\n",
       "    <tr>\n",
       "      <td>1</td>\n",
       "      <td>DLBCL_DUKE_1016</td>\n",
       "      <td>Female</td>\n",
       "      <td>87.8</td>\n",
       "      <td>Partial response</td>\n",
       "      <td>No</td>\n",
       "      <td>Female</td>\n",
       "      <td>No</td>\n",
       "      <td>No</td>\n",
       "      <td>3.0</td>\n",
       "      <td>1.0</td>\n",
       "      <td>0.0</td>\n",
       "      <td>1.0</td>\n",
       "      <td>0.0</td>\n",
       "      <td>1.0</td>\n",
       "      <td>NaN</td>\n",
       "      <td>NaN</td>\n",
       "      <td>NaN</td>\n",
       "      <td>Diffuse Large B-Cell Lymphoma, NOS</td>\n",
       "      <td>142.880</td>\n",
       "    </tr>\n",
       "    <tr>\n",
       "      <td>2</td>\n",
       "      <td>DLBCL_DUKE_2043</td>\n",
       "      <td>Female</td>\n",
       "      <td>76.6</td>\n",
       "      <td>Complete response</td>\n",
       "      <td>NaN</td>\n",
       "      <td>Female</td>\n",
       "      <td>No</td>\n",
       "      <td>NaN</td>\n",
       "      <td>3.0</td>\n",
       "      <td>0.0</td>\n",
       "      <td>1.0</td>\n",
       "      <td>1.0</td>\n",
       "      <td>0.0</td>\n",
       "      <td>1.0</td>\n",
       "      <td>NaN</td>\n",
       "      <td>NaN</td>\n",
       "      <td>NaN</td>\n",
       "      <td>Diffuse Large B-Cell Lymphoma, NOS</td>\n",
       "      <td>279.376</td>\n",
       "    </tr>\n",
       "    <tr>\n",
       "      <td>3</td>\n",
       "      <td>DLBCL_DUKE_2044</td>\n",
       "      <td>Female</td>\n",
       "      <td>70.9</td>\n",
       "      <td>Partial response</td>\n",
       "      <td>NaN</td>\n",
       "      <td>Female</td>\n",
       "      <td>No</td>\n",
       "      <td>NaN</td>\n",
       "      <td>2.0</td>\n",
       "      <td>0.0</td>\n",
       "      <td>0.0</td>\n",
       "      <td>1.0</td>\n",
       "      <td>0.0</td>\n",
       "      <td>1.0</td>\n",
       "      <td>NaN</td>\n",
       "      <td>NaN</td>\n",
       "      <td>NaN</td>\n",
       "      <td>Diffuse Large B-Cell Lymphoma, NOS</td>\n",
       "      <td>181.184</td>\n",
       "    </tr>\n",
       "    <tr>\n",
       "      <td>4</td>\n",
       "      <td>DLBCL_DUKE_2045</td>\n",
       "      <td>Male</td>\n",
       "      <td>71.5</td>\n",
       "      <td>No response</td>\n",
       "      <td>NaN</td>\n",
       "      <td>NaN</td>\n",
       "      <td>NaN</td>\n",
       "      <td>NaN</td>\n",
       "      <td>NaN</td>\n",
       "      <td>1.0</td>\n",
       "      <td>1.0</td>\n",
       "      <td>NaN</td>\n",
       "      <td>NaN</td>\n",
       "      <td>1.0</td>\n",
       "      <td>NaN</td>\n",
       "      <td>NaN</td>\n",
       "      <td>NaN</td>\n",
       "      <td>Diffuse Large B-Cell Lymphoma, NOS</td>\n",
       "      <td>24.320</td>\n",
       "    </tr>\n",
       "  </tbody>\n",
       "</table>\n",
       "</div>"
      ],
      "text/plain": [
       "  X.Patient.Identifier     Sex  Age.at.Diagnosis Initial.Treatment.Response  \\\n",
       "0      DLBCL_DUKE_1008    Male              74.7          Complete response   \n",
       "1      DLBCL_DUKE_1016  Female              87.8           Partial response   \n",
       "2      DLBCL_DUKE_2043  Female              76.6          Complete response   \n",
       "3      DLBCL_DUKE_2044  Female              70.9           Partial response   \n",
       "4      DLBCL_DUKE_2045    Male              71.5                No response   \n",
       "\n",
       "  B.Symptoms.at.Diagnosis Testicular.Involvement CNS.Status CNS.Relapse  IPI  \\\n",
       "0                     Yes                     No         No          No  3.0   \n",
       "1                      No                 Female         No          No  3.0   \n",
       "2                     NaN                 Female         No         NaN  3.0   \n",
       "3                     NaN                 Female         No         NaN  2.0   \n",
       "4                     NaN                    NaN        NaN         NaN  NaN   \n",
       "\n",
       "   ECOG.IPI.Score  AnnArbor.Stage.IPI  LDH.IPI.Factor  Extranodal.IPI.Factor  \\\n",
       "0             0.0                 1.0             1.0                    0.0   \n",
       "1             1.0                 0.0             1.0                    0.0   \n",
       "2             0.0                 1.0             1.0                    0.0   \n",
       "3             0.0                 0.0             1.0                    0.0   \n",
       "4             1.0                 1.0             NaN                    NaN   \n",
       "\n",
       "   Age.IPI.Factor BCL2.Fish.Status MYC.Fish.Status BCL6.Fish.Status  \\\n",
       "0             1.0              NaN             NaN              NaN   \n",
       "1             1.0              NaN             NaN              NaN   \n",
       "2             1.0              NaN             NaN              NaN   \n",
       "3             1.0              NaN             NaN              NaN   \n",
       "4             1.0              NaN             NaN              NaN   \n",
       "\n",
       "                 Cancer.Type.Detailed  Overall.Survival..Months.  \n",
       "0  Diffuse Large B-Cell Lymphoma, NOS                     13.376  \n",
       "1  Diffuse Large B-Cell Lymphoma, NOS                    142.880  \n",
       "2  Diffuse Large B-Cell Lymphoma, NOS                    279.376  \n",
       "3  Diffuse Large B-Cell Lymphoma, NOS                    181.184  \n",
       "4  Diffuse Large B-Cell Lymphoma, NOS                     24.320  "
      ]
     },
     "execution_count": 76,
     "metadata": {},
     "output_type": "execute_result"
    }
   ],
   "source": [
    "cols = lymphoma_data.columns.tolist()\n",
    "cols_order = cols[:8] + cols[9:] + [cols[8]]\n",
    "cols_order\n",
    "lymphoma_data = lymphoma_data[cols_order]\n",
    "lymphoma_data.head()"
   ]
  },
  {
   "cell_type": "markdown",
   "metadata": {},
   "source": [
    "## Part I Data Transformation"
   ]
  },
  {
   "cell_type": "code",
   "execution_count": 77,
   "metadata": {},
   "outputs": [],
   "source": [
    "def cleanning_house():\n",
    "    lymphoma_data.loc[:5, \"X.Patient.Identifier\"]\n",
    "    lymphoma_data[\"X.Patient.Identifier\"].nunique()\n",
    "    lymphoma_data['Sex'].value_counts(normalize=True) * 100\n",
    "    lymphoma_data['Sex'].isna().value_counts()\n",
    "    lymphoma_data['Sex'].fillna(method='bfill', inplace=True)\n",
    "    lymphoma_data.loc[:5, 'Age.at.Diagnosis']\n",
    "    median_age = lymphoma_data['Age.at.Diagnosis'].median()\n",
    "    lymphoma_data['Age.at.Diagnosis'].fillna(median_age, inplace=True)\n",
    "    lymphoma_data['Age.at.Diagnosis'].isna().sum()\n",
    "    lymphoma_data['Initial.Treatment.Response'].nunique()\n",
    "    lymphoma_data['Initial.Treatment.Response'].isna().sum()\n",
    "    lymphoma_data['B.Symptoms.at.Diagnosis'].value_counts(normalize=True) * 100\n",
    "    lymphoma_data['Testicular.Involvement'].value_counts(normalize=True) * 100\n",
    "    lymphoma_data['CNS.Status'].value_counts(normalize=True) * 100\n",
    "    lymphoma_data['CNS.Relapse'].value_counts(normalize=True) * 100\n",
    "    lymphoma_data['Testicular.Involvement'].value_counts(normalize=True) * 100\n",
    "    "
   ]
  },
  {
   "cell_type": "code",
   "execution_count": 78,
   "metadata": {},
   "outputs": [],
   "source": [
    "cleanning_house()"
   ]
  },
  {
   "cell_type": "code",
   "execution_count": 79,
   "metadata": {
    "ExecuteTime": {
     "end_time": "2020-02-29T19:48:23.337204Z",
     "start_time": "2020-02-29T19:48:23.146762Z"
    }
   },
   "outputs": [
    {
     "data": {
      "image/png": "[encoded data removed]",
      "text/plain": [
       "<Figure size 432x288 with 1 Axes>"
      ]
     },
     "metadata": {},
     "output_type": "display_data"
    }
   ],
   "source": [
    "lymphoma_data['Overall.Survival..Months.'].hist()\n",
    "plt.show()"
   ]
  },
  {
   "cell_type": "code",
   "execution_count": 80,
   "metadata": {
    "ExecuteTime": {
     "end_time": "2020-02-29T19:48:23.503241Z",
     "start_time": "2020-02-29T19:48:23.497339Z"
    }
   },
   "outputs": [],
   "source": [
    "lymphoma_test_df = lymphoma_data[pd.isna(lymphoma_data['Overall.Survival..Months.'])]"
   ]
  },
  {
   "cell_type": "code",
   "execution_count": 81,
   "metadata": {
    "ExecuteTime": {
     "end_time": "2020-02-29T19:48:23.511502Z",
     "start_time": "2020-02-29T19:48:23.506130Z"
    }
   },
   "outputs": [],
   "source": [
    "lymphoma_data = lymphoma_data[lymphoma_data['Overall.Survival..Months.'].notna()]\n"
   ]
  },
  {
   "cell_type": "code",
   "execution_count": 82,
   "metadata": {
    "ExecuteTime": {
     "end_time": "2020-02-29T19:48:23.601886Z",
     "start_time": "2020-02-29T19:48:23.513949Z"
    }
   },
   "outputs": [
    {
     "data": {
      "text/plain": [
       "(967, 19)"
      ]
     },
     "execution_count": 82,
     "metadata": {},
     "output_type": "execute_result"
    }
   ],
   "source": [
    "lymphoma_data.shape"
   ]
  },
  {
   "cell_type": "code",
   "execution_count": 83,
   "metadata": {
    "ExecuteTime": {
     "end_time": "2020-02-29T19:48:23.610625Z",
     "start_time": "2020-02-29T19:48:23.603804Z"
    }
   },
   "outputs": [
    {
     "data": {
      "text/plain": [
       "Index(['X.Patient.Identifier', 'Sex', 'Age.at.Diagnosis',\n",
       "       'Initial.Treatment.Response', 'B.Symptoms.at.Diagnosis',\n",
       "       'Testicular.Involvement', 'CNS.Status', 'CNS.Relapse', 'IPI',\n",
       "       'ECOG.IPI.Score', 'AnnArbor.Stage.IPI', 'LDH.IPI.Factor',\n",
       "       'Extranodal.IPI.Factor', 'Age.IPI.Factor', 'BCL2.Fish.Status',\n",
       "       'MYC.Fish.Status', 'BCL6.Fish.Status', 'Cancer.Type.Detailed',\n",
       "       'Overall.Survival..Months.'],\n",
       "      dtype='object')"
      ]
     },
     "execution_count": 83,
     "metadata": {},
     "output_type": "execute_result"
    }
   ],
   "source": [
    "lymphoma_data.columns"
   ]
  },
  {
   "cell_type": "code",
   "execution_count": 84,
   "metadata": {},
   "outputs": [],
   "source": [
    "def cleanning_house2():\n",
    "    lymphoma_data['IPI'].value_counts(normalize=True) * 100\n",
    "    lymphoma_data['ECOG.IPI.Score'].value_counts(normalize=True) * 100\n",
    "    lymphoma_data['AnnArbor.Stage.IPI'].value_counts(normalize=True) * 100\n",
    "    lymphoma_data['LDH.IPI.Factor'].value_counts(normalize=True) * 100\n",
    "    lymphoma_data['Extranodal.IPI.Factor'].value_counts(normalize=True) * 100\n",
    "    lymphoma_data['Age.IPI.Factor'].value_counts(normalize=True) * 100\n",
    "    lymphoma_data['BCL2.Fish.Status'].value_counts(normalize=True) * 100\n",
    "    lymphoma_data['MYC.Fish.Status'].value_counts(normalize=True) * 100\n",
    "    lymphoma_data['BCL6.Fish.Status'].value_counts(normalize=True) * 100\n",
    "    lymphoma_data['Cancer.Type.Detailed'].value_counts(normalize=True) * 100\n",
    "    \n",
    "    "
   ]
  },
  {
   "cell_type": "code",
   "execution_count": 85,
   "metadata": {
    "ExecuteTime": {
     "end_time": "2020-02-29T19:48:23.644327Z",
     "start_time": "2020-02-29T19:48:23.633092Z"
    }
   },
   "outputs": [],
   "source": [
    "cleanning_house2()"
   ]
  },
  {
   "cell_type": "markdown",
   "metadata": {},
   "source": [
    "## Threshold to Drop Column"
   ]
  },
  {
   "cell_type": "code",
   "execution_count": 86,
   "metadata": {
    "ExecuteTime": {
     "end_time": "2020-02-29T19:48:26.165351Z",
     "start_time": "2020-02-29T19:48:25.762963Z"
    }
   },
   "outputs": [
    {
     "name": "stdout",
     "output_type": "stream",
     "text": [
      "X.Patient.Identifier: 0.00%\n",
      "Sex: 0.00%\n",
      "Age.at.Diagnosis: 0.00%\n",
      "Initial.Treatment.Response: 6.83%\n",
      "B.Symptoms.at.Diagnosis: 5.89%\n",
      "Testicular.Involvement: 10.96%\n",
      "CNS.Status: 11.17%\n",
      "CNS.Relapse: 59.05%\n",
      "IPI: 21.82%\n",
      "ECOG.IPI.Score: 7.65%\n",
      "AnnArbor.Stage.IPI: 1.76%\n",
      "LDH.IPI.Factor: 10.13%\n",
      "Extranodal.IPI.Factor: 8.07%\n",
      "Age.IPI.Factor: 3.31%\n",
      "BCL2.Fish.Status: 88.42%\n",
      "MYC.Fish.Status: 88.42%\n",
      "BCL6.Fish.Status: 88.42%\n",
      "Cancer.Type.Detailed: 0.00%\n",
      "Overall.Survival..Months.: 0.00%\n"
     ]
    }
   ],
   "source": [
    "for category in lymphoma_data.columns:\n",
    "    na_count = lymphoma_data[category].isna().sum()\n",
    "    tot_count = lymphoma_data[category].shape[0]\n",
    "    prcnt = (na_count / tot_count ) * 100\n",
    "    print(f'{category}: {prcnt:.2f}%')"
   ]
  },
  {
   "cell_type": "markdown",
   "metadata": {},
   "source": [
    "## Converting From Months to Years"
   ]
  },
  {
   "cell_type": "code",
   "execution_count": 87,
   "metadata": {
    "ExecuteTime": {
     "end_time": "2020-02-29T19:48:26.365071Z",
     "start_time": "2020-02-29T19:48:26.168732Z"
    }
   },
   "outputs": [],
   "source": [
    "lymphoma_data['survival_years'] = lymphoma_data['Overall.Survival..Months.'] / 12"
   ]
  },
  {
   "cell_type": "markdown",
   "metadata": {},
   "source": [
    "## Dropping and Transforming the Data"
   ]
  },
  {
   "cell_type": "code",
   "execution_count": 88,
   "metadata": {
    "ExecuteTime": {
     "end_time": "2020-02-29T19:48:26.609158Z",
     "start_time": "2020-02-29T19:48:26.601350Z"
    }
   },
   "outputs": [],
   "source": [
    "# Dropping the Patient Identifier\n",
    "lymphoma_data = lymphoma_data.drop(['X.Patient.Identifier'], axis = 1)"
   ]
  },
  {
   "cell_type": "code",
   "execution_count": 89,
   "metadata": {
    "ExecuteTime": {
     "end_time": "2020-02-29T19:48:26.618931Z",
     "start_time": "2020-02-29T19:48:26.611136Z"
    }
   },
   "outputs": [
    {
     "data": {
      "text/plain": [
       "Index(['Sex', 'Age.at.Diagnosis', 'Initial.Treatment.Response',\n",
       "       'B.Symptoms.at.Diagnosis', 'Testicular.Involvement', 'CNS.Status',\n",
       "       'CNS.Relapse', 'IPI', 'ECOG.IPI.Score', 'AnnArbor.Stage.IPI',\n",
       "       'LDH.IPI.Factor', 'Extranodal.IPI.Factor', 'Age.IPI.Factor',\n",
       "       'BCL2.Fish.Status', 'MYC.Fish.Status', 'BCL6.Fish.Status',\n",
       "       'Cancer.Type.Detailed', 'Overall.Survival..Months.', 'survival_years'],\n",
       "      dtype='object')"
      ]
     },
     "execution_count": 89,
     "metadata": {},
     "output_type": "execute_result"
    }
   ],
   "source": [
    "lymphoma_data.columns"
   ]
  },
  {
   "cell_type": "code",
   "execution_count": 90,
   "metadata": {
    "ExecuteTime": {
     "end_time": "2020-02-29T19:48:26.642392Z",
     "start_time": "2020-02-29T19:48:26.621861Z"
    }
   },
   "outputs": [],
   "source": [
    "# Trransforming the Sex Column\n",
    "dummy_sex = pd.get_dummies(lymphoma_data.iloc[:, 0], prefix='Sex', prefix_sep='.', drop_first=True)\n",
    "dummy_initial_tr = pd.get_dummies(lymphoma_data.iloc[:, 2], prefix='Initial.Treatment.Response', prefix_sep='.', drop_first=True)\n",
    "dummy_symptoms = pd.get_dummies(lymphoma_data.iloc[:, 3], prefix='B.Symptoms.at.Diagnosis', prefix_sep='.', drop_first=True)\n",
    "dummy_test_inv = pd.get_dummies(lymphoma_data.iloc[:, 4], prefix='Testicular.Involvement', prefix_sep='.', drop_first=True)\n",
    "dummy_cns_stat = pd.get_dummies(lymphoma_data.iloc[:, 5], prefix='CNS.Status', prefix_sep='.', drop_first=True)\n",
    "dummy_cns_rlps= pd.get_dummies(lymphoma_data.iloc[:, 5], prefix='CNS.Relapse', prefix_sep='.', drop_first=True)"
   ]
  },
  {
   "cell_type": "code",
   "execution_count": 91,
   "metadata": {
    "ExecuteTime": {
     "end_time": "2020-02-29T19:48:26.651146Z",
     "start_time": "2020-02-29T19:48:26.644308Z"
    }
   },
   "outputs": [],
   "source": [
    "lymphoma_data.drop(['Sex', 'Initial.Treatment.Response', 'B.Symptoms.at.Diagnosis', 'Testicular.Involvement', \n",
    "                    'CNS.Status','CNS.Relapse', ], axis=1, inplace=True)"
   ]
  },
  {
   "cell_type": "code",
   "execution_count": 92,
   "metadata": {
    "ExecuteTime": {
     "end_time": "2020-02-29T19:48:26.661431Z",
     "start_time": "2020-02-29T19:48:26.654128Z"
    }
   },
   "outputs": [],
   "source": [
    "# We create the new DataFrame with the Binary Indicators for the categories using concatenate.\n",
    "lymphoma_data = pd.concat([dummy_sex, dummy_initial_tr, dummy_symptoms, dummy_test_inv, dummy_cns_stat, \n",
    "                           dummy_cns_rlps, lymphoma_data], axis=1)"
   ]
  },
  {
   "cell_type": "code",
   "execution_count": 93,
   "metadata": {
    "ExecuteTime": {
     "end_time": "2020-02-29T19:48:27.194130Z",
     "start_time": "2020-02-29T19:48:26.662913Z"
    }
   },
   "outputs": [
    {
     "data": {
      "text/html": [
       "<div>\n",
       "<style scoped>\n",
       "    .dataframe tbody tr th:only-of-type {\n",
       "        vertical-align: middle;\n",
       "    }\n",
       "\n",
       "    .dataframe tbody tr th {\n",
       "        vertical-align: top;\n",
       "    }\n",
       "\n",
       "    .dataframe thead th {\n",
       "        text-align: right;\n",
       "    }\n",
       "</style>\n",
       "<table border=\"1\" class=\"dataframe\">\n",
       "  <thead>\n",
       "    <tr style=\"text-align: right;\">\n",
       "      <th></th>\n",
       "      <th>Sex.Male</th>\n",
       "      <th>Initial.Treatment.Response.No response</th>\n",
       "      <th>Initial.Treatment.Response.Partial response</th>\n",
       "      <th>B.Symptoms.at.Diagnosis.Yes</th>\n",
       "      <th>Testicular.Involvement.No</th>\n",
       "      <th>Testicular.Involvement.Yes</th>\n",
       "      <th>CNS.Status.Yes</th>\n",
       "      <th>CNS.Relapse.Yes</th>\n",
       "      <th>Age.at.Diagnosis</th>\n",
       "      <th>IPI</th>\n",
       "      <th>ECOG.IPI.Score</th>\n",
       "      <th>AnnArbor.Stage.IPI</th>\n",
       "      <th>LDH.IPI.Factor</th>\n",
       "      <th>Extranodal.IPI.Factor</th>\n",
       "      <th>Age.IPI.Factor</th>\n",
       "      <th>BCL2.Fish.Status</th>\n",
       "      <th>MYC.Fish.Status</th>\n",
       "      <th>BCL6.Fish.Status</th>\n",
       "      <th>Overall.Survival..Months.</th>\n",
       "      <th>survival_years</th>\n",
       "    </tr>\n",
       "  </thead>\n",
       "  <tbody>\n",
       "    <tr>\n",
       "      <td>0</td>\n",
       "      <td>1</td>\n",
       "      <td>0</td>\n",
       "      <td>0</td>\n",
       "      <td>1</td>\n",
       "      <td>1</td>\n",
       "      <td>0</td>\n",
       "      <td>0</td>\n",
       "      <td>0</td>\n",
       "      <td>74.7</td>\n",
       "      <td>3.0</td>\n",
       "      <td>0.0</td>\n",
       "      <td>1.0</td>\n",
       "      <td>1.0</td>\n",
       "      <td>0.0</td>\n",
       "      <td>1.0</td>\n",
       "      <td>NaN</td>\n",
       "      <td>NaN</td>\n",
       "      <td>NaN</td>\n",
       "      <td>13.376</td>\n",
       "      <td>1.114667</td>\n",
       "    </tr>\n",
       "    <tr>\n",
       "      <td>1</td>\n",
       "      <td>0</td>\n",
       "      <td>0</td>\n",
       "      <td>1</td>\n",
       "      <td>0</td>\n",
       "      <td>0</td>\n",
       "      <td>0</td>\n",
       "      <td>0</td>\n",
       "      <td>0</td>\n",
       "      <td>87.8</td>\n",
       "      <td>3.0</td>\n",
       "      <td>1.0</td>\n",
       "      <td>0.0</td>\n",
       "      <td>1.0</td>\n",
       "      <td>0.0</td>\n",
       "      <td>1.0</td>\n",
       "      <td>NaN</td>\n",
       "      <td>NaN</td>\n",
       "      <td>NaN</td>\n",
       "      <td>142.880</td>\n",
       "      <td>11.906667</td>\n",
       "    </tr>\n",
       "    <tr>\n",
       "      <td>2</td>\n",
       "      <td>0</td>\n",
       "      <td>0</td>\n",
       "      <td>0</td>\n",
       "      <td>0</td>\n",
       "      <td>0</td>\n",
       "      <td>0</td>\n",
       "      <td>0</td>\n",
       "      <td>0</td>\n",
       "      <td>76.6</td>\n",
       "      <td>3.0</td>\n",
       "      <td>0.0</td>\n",
       "      <td>1.0</td>\n",
       "      <td>1.0</td>\n",
       "      <td>0.0</td>\n",
       "      <td>1.0</td>\n",
       "      <td>NaN</td>\n",
       "      <td>NaN</td>\n",
       "      <td>NaN</td>\n",
       "      <td>279.376</td>\n",
       "      <td>23.281333</td>\n",
       "    </tr>\n",
       "    <tr>\n",
       "      <td>3</td>\n",
       "      <td>0</td>\n",
       "      <td>0</td>\n",
       "      <td>1</td>\n",
       "      <td>0</td>\n",
       "      <td>0</td>\n",
       "      <td>0</td>\n",
       "      <td>0</td>\n",
       "      <td>0</td>\n",
       "      <td>70.9</td>\n",
       "      <td>2.0</td>\n",
       "      <td>0.0</td>\n",
       "      <td>0.0</td>\n",
       "      <td>1.0</td>\n",
       "      <td>0.0</td>\n",
       "      <td>1.0</td>\n",
       "      <td>NaN</td>\n",
       "      <td>NaN</td>\n",
       "      <td>NaN</td>\n",
       "      <td>181.184</td>\n",
       "      <td>15.098667</td>\n",
       "    </tr>\n",
       "    <tr>\n",
       "      <td>4</td>\n",
       "      <td>1</td>\n",
       "      <td>1</td>\n",
       "      <td>0</td>\n",
       "      <td>0</td>\n",
       "      <td>0</td>\n",
       "      <td>0</td>\n",
       "      <td>0</td>\n",
       "      <td>0</td>\n",
       "      <td>71.5</td>\n",
       "      <td>NaN</td>\n",
       "      <td>1.0</td>\n",
       "      <td>1.0</td>\n",
       "      <td>NaN</td>\n",
       "      <td>NaN</td>\n",
       "      <td>1.0</td>\n",
       "      <td>NaN</td>\n",
       "      <td>NaN</td>\n",
       "      <td>NaN</td>\n",
       "      <td>24.320</td>\n",
       "      <td>2.026667</td>\n",
       "    </tr>\n",
       "  </tbody>\n",
       "</table>\n",
       "</div>"
      ],
      "text/plain": [
       "   Sex.Male  Initial.Treatment.Response.No response  \\\n",
       "0         1                                       0   \n",
       "1         0                                       0   \n",
       "2         0                                       0   \n",
       "3         0                                       0   \n",
       "4         1                                       1   \n",
       "\n",
       "   Initial.Treatment.Response.Partial response  B.Symptoms.at.Diagnosis.Yes  \\\n",
       "0                                            0                            1   \n",
       "1                                            1                            0   \n",
       "2                                            0                            0   \n",
       "3                                            1                            0   \n",
       "4                                            0                            0   \n",
       "\n",
       "   Testicular.Involvement.No  Testicular.Involvement.Yes  CNS.Status.Yes  \\\n",
       "0                          1                           0               0   \n",
       "1                          0                           0               0   \n",
       "2                          0                           0               0   \n",
       "3                          0                           0               0   \n",
       "4                          0                           0               0   \n",
       "\n",
       "   CNS.Relapse.Yes  Age.at.Diagnosis  IPI  ECOG.IPI.Score  AnnArbor.Stage.IPI  \\\n",
       "0                0              74.7  3.0             0.0                 1.0   \n",
       "1                0              87.8  3.0             1.0                 0.0   \n",
       "2                0              76.6  3.0             0.0                 1.0   \n",
       "3                0              70.9  2.0             0.0                 0.0   \n",
       "4                0              71.5  NaN             1.0                 1.0   \n",
       "\n",
       "   LDH.IPI.Factor  Extranodal.IPI.Factor  Age.IPI.Factor BCL2.Fish.Status  \\\n",
       "0             1.0                    0.0             1.0              NaN   \n",
       "1             1.0                    0.0             1.0              NaN   \n",
       "2             1.0                    0.0             1.0              NaN   \n",
       "3             1.0                    0.0             1.0              NaN   \n",
       "4             NaN                    NaN             1.0              NaN   \n",
       "\n",
       "  MYC.Fish.Status BCL6.Fish.Status  Overall.Survival..Months.  survival_years  \n",
       "0             NaN              NaN                     13.376        1.114667  \n",
       "1             NaN              NaN                    142.880       11.906667  \n",
       "2             NaN              NaN                    279.376       23.281333  \n",
       "3             NaN              NaN                    181.184       15.098667  \n",
       "4             NaN              NaN                     24.320        2.026667  "
      ]
     },
     "execution_count": 93,
     "metadata": {},
     "output_type": "execute_result"
    }
   ],
   "source": [
    "lymphoma_data.drop(['Cancer.Type.Detailed'], axis=1, inplace=True)\n",
    "lymphoma_data.head()"
   ]
  },
  {
   "cell_type": "code",
   "execution_count": 94,
   "metadata": {
    "ExecuteTime": {
     "end_time": "2020-02-29T19:48:27.224442Z",
     "start_time": "2020-02-29T19:48:27.196079Z"
    },
    "scrolled": true
   },
   "outputs": [
    {
     "data": {
      "text/html": [
       "<div>\n",
       "<style scoped>\n",
       "    .dataframe tbody tr th:only-of-type {\n",
       "        vertical-align: middle;\n",
       "    }\n",
       "\n",
       "    .dataframe tbody tr th {\n",
       "        vertical-align: top;\n",
       "    }\n",
       "\n",
       "    .dataframe thead th {\n",
       "        text-align: right;\n",
       "    }\n",
       "</style>\n",
       "<table border=\"1\" class=\"dataframe\">\n",
       "  <thead>\n",
       "    <tr style=\"text-align: right;\">\n",
       "      <th></th>\n",
       "      <th>Sex.Male</th>\n",
       "      <th>Initial.Treatment.Response.No response</th>\n",
       "      <th>Initial.Treatment.Response.Partial response</th>\n",
       "      <th>B.Symptoms.at.Diagnosis.Yes</th>\n",
       "      <th>Testicular.Involvement.No</th>\n",
       "      <th>Testicular.Involvement.Yes</th>\n",
       "      <th>CNS.Status.Yes</th>\n",
       "      <th>CNS.Relapse.Yes</th>\n",
       "      <th>Age.at.Diagnosis</th>\n",
       "      <th>ECOG.IPI.Score</th>\n",
       "      <th>AnnArbor.Stage.IPI</th>\n",
       "      <th>LDH.IPI.Factor</th>\n",
       "      <th>Extranodal.IPI.Factor</th>\n",
       "      <th>Age.IPI.Factor</th>\n",
       "      <th>BCL2.Fish.Status</th>\n",
       "      <th>MYC.Fish.Status</th>\n",
       "      <th>BCL6.Fish.Status</th>\n",
       "      <th>Overall.Survival..Months.</th>\n",
       "      <th>survival_years</th>\n",
       "    </tr>\n",
       "  </thead>\n",
       "  <tbody>\n",
       "    <tr>\n",
       "      <td>0</td>\n",
       "      <td>1</td>\n",
       "      <td>0</td>\n",
       "      <td>0</td>\n",
       "      <td>1</td>\n",
       "      <td>1</td>\n",
       "      <td>0</td>\n",
       "      <td>0</td>\n",
       "      <td>0</td>\n",
       "      <td>74.7</td>\n",
       "      <td>0.0</td>\n",
       "      <td>1.0</td>\n",
       "      <td>1.0</td>\n",
       "      <td>0.0</td>\n",
       "      <td>1.0</td>\n",
       "      <td>NaN</td>\n",
       "      <td>NaN</td>\n",
       "      <td>NaN</td>\n",
       "      <td>13.376</td>\n",
       "      <td>1.114667</td>\n",
       "    </tr>\n",
       "    <tr>\n",
       "      <td>1</td>\n",
       "      <td>0</td>\n",
       "      <td>0</td>\n",
       "      <td>1</td>\n",
       "      <td>0</td>\n",
       "      <td>0</td>\n",
       "      <td>0</td>\n",
       "      <td>0</td>\n",
       "      <td>0</td>\n",
       "      <td>87.8</td>\n",
       "      <td>1.0</td>\n",
       "      <td>0.0</td>\n",
       "      <td>1.0</td>\n",
       "      <td>0.0</td>\n",
       "      <td>1.0</td>\n",
       "      <td>NaN</td>\n",
       "      <td>NaN</td>\n",
       "      <td>NaN</td>\n",
       "      <td>142.880</td>\n",
       "      <td>11.906667</td>\n",
       "    </tr>\n",
       "    <tr>\n",
       "      <td>2</td>\n",
       "      <td>0</td>\n",
       "      <td>0</td>\n",
       "      <td>0</td>\n",
       "      <td>0</td>\n",
       "      <td>0</td>\n",
       "      <td>0</td>\n",
       "      <td>0</td>\n",
       "      <td>0</td>\n",
       "      <td>76.6</td>\n",
       "      <td>0.0</td>\n",
       "      <td>1.0</td>\n",
       "      <td>1.0</td>\n",
       "      <td>0.0</td>\n",
       "      <td>1.0</td>\n",
       "      <td>NaN</td>\n",
       "      <td>NaN</td>\n",
       "      <td>NaN</td>\n",
       "      <td>279.376</td>\n",
       "      <td>23.281333</td>\n",
       "    </tr>\n",
       "    <tr>\n",
       "      <td>3</td>\n",
       "      <td>0</td>\n",
       "      <td>0</td>\n",
       "      <td>1</td>\n",
       "      <td>0</td>\n",
       "      <td>0</td>\n",
       "      <td>0</td>\n",
       "      <td>0</td>\n",
       "      <td>0</td>\n",
       "      <td>70.9</td>\n",
       "      <td>0.0</td>\n",
       "      <td>0.0</td>\n",
       "      <td>1.0</td>\n",
       "      <td>0.0</td>\n",
       "      <td>1.0</td>\n",
       "      <td>NaN</td>\n",
       "      <td>NaN</td>\n",
       "      <td>NaN</td>\n",
       "      <td>181.184</td>\n",
       "      <td>15.098667</td>\n",
       "    </tr>\n",
       "    <tr>\n",
       "      <td>4</td>\n",
       "      <td>1</td>\n",
       "      <td>1</td>\n",
       "      <td>0</td>\n",
       "      <td>0</td>\n",
       "      <td>0</td>\n",
       "      <td>0</td>\n",
       "      <td>0</td>\n",
       "      <td>0</td>\n",
       "      <td>71.5</td>\n",
       "      <td>1.0</td>\n",
       "      <td>1.0</td>\n",
       "      <td>NaN</td>\n",
       "      <td>NaN</td>\n",
       "      <td>1.0</td>\n",
       "      <td>NaN</td>\n",
       "      <td>NaN</td>\n",
       "      <td>NaN</td>\n",
       "      <td>24.320</td>\n",
       "      <td>2.026667</td>\n",
       "    </tr>\n",
       "  </tbody>\n",
       "</table>\n",
       "</div>"
      ],
      "text/plain": [
       "   Sex.Male  Initial.Treatment.Response.No response  \\\n",
       "0         1                                       0   \n",
       "1         0                                       0   \n",
       "2         0                                       0   \n",
       "3         0                                       0   \n",
       "4         1                                       1   \n",
       "\n",
       "   Initial.Treatment.Response.Partial response  B.Symptoms.at.Diagnosis.Yes  \\\n",
       "0                                            0                            1   \n",
       "1                                            1                            0   \n",
       "2                                            0                            0   \n",
       "3                                            1                            0   \n",
       "4                                            0                            0   \n",
       "\n",
       "   Testicular.Involvement.No  Testicular.Involvement.Yes  CNS.Status.Yes  \\\n",
       "0                          1                           0               0   \n",
       "1                          0                           0               0   \n",
       "2                          0                           0               0   \n",
       "3                          0                           0               0   \n",
       "4                          0                           0               0   \n",
       "\n",
       "   CNS.Relapse.Yes  Age.at.Diagnosis  ECOG.IPI.Score  AnnArbor.Stage.IPI  \\\n",
       "0                0              74.7             0.0                 1.0   \n",
       "1                0              87.8             1.0                 0.0   \n",
       "2                0              76.6             0.0                 1.0   \n",
       "3                0              70.9             0.0                 0.0   \n",
       "4                0              71.5             1.0                 1.0   \n",
       "\n",
       "   LDH.IPI.Factor  Extranodal.IPI.Factor  Age.IPI.Factor BCL2.Fish.Status  \\\n",
       "0             1.0                    0.0             1.0              NaN   \n",
       "1             1.0                    0.0             1.0              NaN   \n",
       "2             1.0                    0.0             1.0              NaN   \n",
       "3             1.0                    0.0             1.0              NaN   \n",
       "4             NaN                    NaN             1.0              NaN   \n",
       "\n",
       "  MYC.Fish.Status BCL6.Fish.Status  Overall.Survival..Months.  survival_years  \n",
       "0             NaN              NaN                     13.376        1.114667  \n",
       "1             NaN              NaN                    142.880       11.906667  \n",
       "2             NaN              NaN                    279.376       23.281333  \n",
       "3             NaN              NaN                    181.184       15.098667  \n",
       "4             NaN              NaN                     24.320        2.026667  "
      ]
     },
     "execution_count": 94,
     "metadata": {},
     "output_type": "execute_result"
    }
   ],
   "source": [
    "lymphoma_data.drop(['IPI'], axis=1, inplace=True)\n",
    "lymphoma_data.head()"
   ]
  },
  {
   "cell_type": "markdown",
   "metadata": {},
   "source": [
    "### Final dataset"
   ]
  },
  {
   "cell_type": "code",
   "execution_count": 95,
   "metadata": {
    "ExecuteTime": {
     "end_time": "2020-02-29T19:48:27.620880Z",
     "start_time": "2020-02-29T19:48:27.226342Z"
    }
   },
   "outputs": [
    {
     "data": {
      "text/html": [
       "<div>\n",
       "<style scoped>\n",
       "    .dataframe tbody tr th:only-of-type {\n",
       "        vertical-align: middle;\n",
       "    }\n",
       "\n",
       "    .dataframe tbody tr th {\n",
       "        vertical-align: top;\n",
       "    }\n",
       "\n",
       "    .dataframe thead th {\n",
       "        text-align: right;\n",
       "    }\n",
       "</style>\n",
       "<table border=\"1\" class=\"dataframe\">\n",
       "  <thead>\n",
       "    <tr style=\"text-align: right;\">\n",
       "      <th></th>\n",
       "      <th>Sex.Male</th>\n",
       "      <th>Initial.Treatment.Response.No response</th>\n",
       "      <th>Initial.Treatment.Response.Partial response</th>\n",
       "      <th>B.Symptoms.at.Diagnosis.Yes</th>\n",
       "      <th>Testicular.Involvement.No</th>\n",
       "      <th>Testicular.Involvement.Yes</th>\n",
       "      <th>CNS.Status.Yes</th>\n",
       "      <th>CNS.Relapse.Yes</th>\n",
       "      <th>Age.at.Diagnosis</th>\n",
       "      <th>ECOG.IPI.Score</th>\n",
       "      <th>AnnArbor.Stage.IPI</th>\n",
       "      <th>LDH.IPI.Factor</th>\n",
       "      <th>Extranodal.IPI.Factor</th>\n",
       "      <th>Age.IPI.Factor</th>\n",
       "      <th>Overall.Survival..Months.</th>\n",
       "      <th>survival_years</th>\n",
       "    </tr>\n",
       "  </thead>\n",
       "  <tbody>\n",
       "    <tr>\n",
       "      <td>0</td>\n",
       "      <td>1</td>\n",
       "      <td>0</td>\n",
       "      <td>0</td>\n",
       "      <td>1</td>\n",
       "      <td>1</td>\n",
       "      <td>0</td>\n",
       "      <td>0</td>\n",
       "      <td>0</td>\n",
       "      <td>74.7</td>\n",
       "      <td>0.0</td>\n",
       "      <td>1.0</td>\n",
       "      <td>1.0</td>\n",
       "      <td>0.0</td>\n",
       "      <td>1.0</td>\n",
       "      <td>13.376</td>\n",
       "      <td>1.114667</td>\n",
       "    </tr>\n",
       "    <tr>\n",
       "      <td>1</td>\n",
       "      <td>0</td>\n",
       "      <td>0</td>\n",
       "      <td>1</td>\n",
       "      <td>0</td>\n",
       "      <td>0</td>\n",
       "      <td>0</td>\n",
       "      <td>0</td>\n",
       "      <td>0</td>\n",
       "      <td>87.8</td>\n",
       "      <td>1.0</td>\n",
       "      <td>0.0</td>\n",
       "      <td>1.0</td>\n",
       "      <td>0.0</td>\n",
       "      <td>1.0</td>\n",
       "      <td>142.880</td>\n",
       "      <td>11.906667</td>\n",
       "    </tr>\n",
       "    <tr>\n",
       "      <td>2</td>\n",
       "      <td>0</td>\n",
       "      <td>0</td>\n",
       "      <td>0</td>\n",
       "      <td>0</td>\n",
       "      <td>0</td>\n",
       "      <td>0</td>\n",
       "      <td>0</td>\n",
       "      <td>0</td>\n",
       "      <td>76.6</td>\n",
       "      <td>0.0</td>\n",
       "      <td>1.0</td>\n",
       "      <td>1.0</td>\n",
       "      <td>0.0</td>\n",
       "      <td>1.0</td>\n",
       "      <td>279.376</td>\n",
       "      <td>23.281333</td>\n",
       "    </tr>\n",
       "    <tr>\n",
       "      <td>3</td>\n",
       "      <td>0</td>\n",
       "      <td>0</td>\n",
       "      <td>1</td>\n",
       "      <td>0</td>\n",
       "      <td>0</td>\n",
       "      <td>0</td>\n",
       "      <td>0</td>\n",
       "      <td>0</td>\n",
       "      <td>70.9</td>\n",
       "      <td>0.0</td>\n",
       "      <td>0.0</td>\n",
       "      <td>1.0</td>\n",
       "      <td>0.0</td>\n",
       "      <td>1.0</td>\n",
       "      <td>181.184</td>\n",
       "      <td>15.098667</td>\n",
       "    </tr>\n",
       "    <tr>\n",
       "      <td>4</td>\n",
       "      <td>1</td>\n",
       "      <td>1</td>\n",
       "      <td>0</td>\n",
       "      <td>0</td>\n",
       "      <td>0</td>\n",
       "      <td>0</td>\n",
       "      <td>0</td>\n",
       "      <td>0</td>\n",
       "      <td>71.5</td>\n",
       "      <td>1.0</td>\n",
       "      <td>1.0</td>\n",
       "      <td>NaN</td>\n",
       "      <td>NaN</td>\n",
       "      <td>1.0</td>\n",
       "      <td>24.320</td>\n",
       "      <td>2.026667</td>\n",
       "    </tr>\n",
       "  </tbody>\n",
       "</table>\n",
       "</div>"
      ],
      "text/plain": [
       "   Sex.Male  Initial.Treatment.Response.No response  \\\n",
       "0         1                                       0   \n",
       "1         0                                       0   \n",
       "2         0                                       0   \n",
       "3         0                                       0   \n",
       "4         1                                       1   \n",
       "\n",
       "   Initial.Treatment.Response.Partial response  B.Symptoms.at.Diagnosis.Yes  \\\n",
       "0                                            0                            1   \n",
       "1                                            1                            0   \n",
       "2                                            0                            0   \n",
       "3                                            1                            0   \n",
       "4                                            0                            0   \n",
       "\n",
       "   Testicular.Involvement.No  Testicular.Involvement.Yes  CNS.Status.Yes  \\\n",
       "0                          1                           0               0   \n",
       "1                          0                           0               0   \n",
       "2                          0                           0               0   \n",
       "3                          0                           0               0   \n",
       "4                          0                           0               0   \n",
       "\n",
       "   CNS.Relapse.Yes  Age.at.Diagnosis  ECOG.IPI.Score  AnnArbor.Stage.IPI  \\\n",
       "0                0              74.7             0.0                 1.0   \n",
       "1                0              87.8             1.0                 0.0   \n",
       "2                0              76.6             0.0                 1.0   \n",
       "3                0              70.9             0.0                 0.0   \n",
       "4                0              71.5             1.0                 1.0   \n",
       "\n",
       "   LDH.IPI.Factor  Extranodal.IPI.Factor  Age.IPI.Factor  \\\n",
       "0             1.0                    0.0             1.0   \n",
       "1             1.0                    0.0             1.0   \n",
       "2             1.0                    0.0             1.0   \n",
       "3             1.0                    0.0             1.0   \n",
       "4             NaN                    NaN             1.0   \n",
       "\n",
       "   Overall.Survival..Months.  survival_years  \n",
       "0                     13.376        1.114667  \n",
       "1                    142.880       11.906667  \n",
       "2                    279.376       23.281333  \n",
       "3                    181.184       15.098667  \n",
       "4                     24.320        2.026667  "
      ]
     },
     "execution_count": 95,
     "metadata": {},
     "output_type": "execute_result"
    }
   ],
   "source": [
    "lymphoma_data.drop(['BCL2.Fish.Status', 'MYC.Fish.Status', 'BCL6.Fish.Status'], axis=1, inplace=True)\n",
    "lymphoma_data.head()"
   ]
  },
  {
   "cell_type": "code",
   "execution_count": 96,
   "metadata": {
    "ExecuteTime": {
     "end_time": "2020-02-29T19:48:27.629689Z",
     "start_time": "2020-02-29T19:48:27.623813Z"
    }
   },
   "outputs": [
    {
     "data": {
      "text/plain": [
       "(967, 16)"
      ]
     },
     "execution_count": 96,
     "metadata": {},
     "output_type": "execute_result"
    }
   ],
   "source": [
    "lymphoma_data.shape"
   ]
  },
  {
   "cell_type": "code",
   "execution_count": 97,
   "metadata": {},
   "outputs": [
    {
     "data": {
      "text/plain": [
       "Index(['Sex.Male', 'Initial.Treatment.Response.No response',\n",
       "       'Initial.Treatment.Response.Partial response',\n",
       "       'B.Symptoms.at.Diagnosis.Yes', 'Testicular.Involvement.No',\n",
       "       'Testicular.Involvement.Yes', 'CNS.Status.Yes', 'CNS.Relapse.Yes',\n",
       "       'Age.at.Diagnosis', 'ECOG.IPI.Score', 'AnnArbor.Stage.IPI',\n",
       "       'LDH.IPI.Factor', 'Extranodal.IPI.Factor', 'Age.IPI.Factor',\n",
       "       'Overall.Survival..Months.', 'survival_years'],\n",
       "      dtype='object')"
      ]
     },
     "execution_count": 97,
     "metadata": {},
     "output_type": "execute_result"
    }
   ],
   "source": [
    "lymphoma_data.keys()"
   ]
  },
  {
   "cell_type": "markdown",
   "metadata": {},
   "source": [
    "## Model: Survival of 5 Years or More"
   ]
  },
  {
   "cell_type": "code",
   "execution_count": 98,
   "metadata": {
    "ExecuteTime": {
     "end_time": "2020-02-29T19:48:27.637001Z",
     "start_time": "2020-02-29T19:48:27.631651Z"
    }
   },
   "outputs": [],
   "source": [
    "def category_func_target(value):\n",
    "    if value < 5:\n",
    "        return 0\n",
    "    else:\n",
    "        return 1        "
   ]
  },
  {
   "cell_type": "code",
   "execution_count": 99,
   "metadata": {
    "ExecuteTime": {
     "end_time": "2020-02-29T19:48:28.145302Z",
     "start_time": "2020-02-29T19:48:27.639432Z"
    }
   },
   "outputs": [
    {
     "data": {
      "text/plain": [
       "0       0\n",
       "1       1\n",
       "2       1\n",
       "3       1\n",
       "4       0\n",
       "       ..\n",
       "996     1\n",
       "997     0\n",
       "998     0\n",
       "999     1\n",
       "1000    1\n",
       "Name: survival_years, Length: 967, dtype: int64"
      ]
     },
     "execution_count": 99,
     "metadata": {},
     "output_type": "execute_result"
    }
   ],
   "source": [
    "lymphoma_data['survival_years'].apply(lambda x: category_func_target(x))"
   ]
  },
  {
   "cell_type": "code",
   "execution_count": 100,
   "metadata": {
    "ExecuteTime": {
     "end_time": "2020-02-29T19:48:28.158984Z",
     "start_time": "2020-02-29T19:48:28.147244Z"
    }
   },
   "outputs": [],
   "source": [
    "lymphoma_data['target'] = lymphoma_data['survival_years'].apply(lambda x: category_func_target(x))"
   ]
  },
  {
   "cell_type": "code",
   "execution_count": 101,
   "metadata": {
    "ExecuteTime": {
     "end_time": "2020-02-29T19:48:28.303493Z",
     "start_time": "2020-02-29T19:48:28.293726Z"
    }
   },
   "outputs": [],
   "source": [
    "#lymphoma_data.count()"
   ]
  },
  {
   "cell_type": "code",
   "execution_count": 102,
   "metadata": {
    "ExecuteTime": {
     "end_time": "2020-02-29T19:48:28.318205Z",
     "start_time": "2020-02-29T19:48:28.306430Z"
    }
   },
   "outputs": [],
   "source": [
    "#lymphoma_data[lymphoma_data['survival_years'] >= 5].count()"
   ]
  },
  {
   "cell_type": "markdown",
   "metadata": {},
   "source": [
    "### Part II Data Modeling"
   ]
  },
  {
   "cell_type": "code",
   "execution_count": 103,
   "metadata": {},
   "outputs": [
    {
     "data": {
      "image/png": "[encoded data removed]",
      "text/plain": [
       "<Figure size 936x504 with 1 Axes>"
      ]
     },
     "metadata": {},
     "output_type": "display_data"
    }
   ],
   "source": [
    "import seaborn as sns\n",
    "\n",
    "fig_dims = (13, 7)\n",
    "fig, ax = plt.subplots(figsize=fig_dims)\n",
    "sns.countplot(lymphoma_data['target'],label='Count',ax=ax, data=lymphoma_data)\n",
    "plt.xlabel('Target', fontsize=18)\n",
    "plt.ylabel('Nro of Patients', fontsize=10)\n",
    "plt.show()"
   ]
  },
  {
   "cell_type": "code",
   "execution_count": 104,
   "metadata": {
    "ExecuteTime": {
     "end_time": "2020-02-29T20:21:01.226836Z",
     "start_time": "2020-02-29T20:21:01.217080Z"
    }
   },
   "outputs": [
    {
     "data": {
      "text/plain": [
       "'target'"
      ]
     },
     "execution_count": 104,
     "metadata": {},
     "output_type": "execute_result"
    }
   ],
   "source": [
    "lymphoma_data.columns[16]"
   ]
  },
  {
   "cell_type": "code",
   "execution_count": 105,
   "metadata": {
    "ExecuteTime": {
     "end_time": "2020-02-29T19:50:56.223903Z",
     "start_time": "2020-02-29T19:50:56.218050Z"
    }
   },
   "outputs": [],
   "source": [
    "lymphoma_data = lymphoma_data.fillna(value=0, method=None)"
   ]
  },
  {
   "cell_type": "code",
   "execution_count": 106,
   "metadata": {},
   "outputs": [],
   "source": [
    "X= lymphoma_data[lymphoma_data.columns[:-1]]\n",
    "y=lymphoma_data.target\n",
    "X_train, X_test, y_train, y_test =\\\n",
    "train_test_split(X, y, test_size= 0.5, random_state=42)"
   ]
  },
  {
   "cell_type": "markdown",
   "metadata": {},
   "source": [
    "## Combining transformers and estimators in a pipeline"
   ]
  },
  {
   "cell_type": "code",
   "execution_count": 107,
   "metadata": {},
   "outputs": [
    {
     "name": "stdout",
     "output_type": "stream",
     "text": [
      "Test Accuracy: 0.845\n"
     ]
    }
   ],
   "source": [
    "from sklearn.preprocessing import StandardScaler\n",
    "from sklearn.decomposition import PCA\n",
    "from sklearn.linear_model import LogisticRegression\n",
    "from sklearn.pipeline import make_pipeline\n",
    "\n",
    "pipe_lr = make_pipeline(StandardScaler(), PCA(n_components=2), LogisticRegression(random_state=1, solver='lbfgs'))\n",
    "pipe_lr.fit(X_train, y_train)\n",
    "y_pred = pipe_lr.predict(X_test)\n",
    "print('Test Accuracy: %.3f' % pipe_lr.score(X_test, y_test))"
   ]
  },
  {
   "cell_type": "markdown",
   "metadata": {},
   "source": [
    "## K-fold cross-validation"
   ]
  },
  {
   "cell_type": "code",
   "execution_count": 108,
   "metadata": {},
   "outputs": [
    {
     "name": "stdout",
     "output_type": "stream",
     "text": [
      "Fold:  1, Class dist.: [171 312], Acc: 0.828\n",
      "\n",
      "CV accuracy: 0.828 +/- 0.000\n",
      "Fold:  2, Class dist.: [171 312], Acc: 0.828\n",
      "\n",
      "CV accuracy: 0.828 +/- 0.000\n",
      "Fold:  3, Class dist.: [171 312], Acc: 0.828\n",
      "\n",
      "CV accuracy: 0.828 +/- 0.000\n",
      "Fold:  4, Class dist.: [171 312], Acc: 0.828\n",
      "\n",
      "CV accuracy: 0.828 +/- 0.000\n",
      "Fold:  5, Class dist.: [171 312], Acc: 0.828\n",
      "\n",
      "CV accuracy: 0.828 +/- 0.000\n",
      "Fold:  6, Class dist.: [171 312], Acc: 0.828\n",
      "\n",
      "CV accuracy: 0.828 +/- 0.000\n",
      "Fold:  7, Class dist.: [171 312], Acc: 0.828\n",
      "\n",
      "CV accuracy: 0.828 +/- 0.000\n",
      "Fold:  8, Class dist.: [171 312], Acc: 0.828\n",
      "\n",
      "CV accuracy: 0.828 +/- 0.000\n",
      "Fold:  9, Class dist.: [171 312], Acc: 0.828\n",
      "\n",
      "CV accuracy: 0.828 +/- 0.000\n",
      "Fold: 10, Class dist.: [171 312], Acc: 0.828\n",
      "\n",
      "CV accuracy: 0.828 +/- 0.000\n"
     ]
    }
   ],
   "source": [
    "import numpy as np\n",
    "from sklearn.model_selection import StratifiedKFold\n",
    "kfold = StratifiedKFold(n_splits=10).split(X_train, y_train)\n",
    "scores = []\n",
    "\n",
    "for k, (train, test) in enumerate(kfold):\n",
    "    pipe_lr.fit(X_train, y_train)\n",
    "    score = pipe_lr.score(X_train, y_train)\n",
    "    scores.append(score)\n",
    "    print('Fold: %2d, Class dist.: %s, Acc: %.3f' % (k+1, np.bincount(y_train), score))\n",
    "\n",
    "    print('\\nCV accuracy: %.3f +/- %.3f' % (np.mean(scores), np.std(scores)))"
   ]
  },
  {
   "cell_type": "code",
   "execution_count": 109,
   "metadata": {},
   "outputs": [
    {
     "name": "stdout",
     "output_type": "stream",
     "text": [
      "CV accuracy scores: [0.85714286 0.85714286 0.93877551 0.875      0.85416667 0.72916667\n",
      " 0.91666667 0.77083333 0.85416667 0.72916667]\n"
     ]
    }
   ],
   "source": [
    "from sklearn.model_selection import cross_val_score\n",
    "\n",
    "scores = cross_val_score(estimator=pipe_lr, X=X_train, y=y_train, cv=10, n_jobs=1)\n",
    "print('CV accuracy scores: %s' % scores)"
   ]
  },
  {
   "cell_type": "code",
   "execution_count": 110,
   "metadata": {},
   "outputs": [
    {
     "name": "stdout",
     "output_type": "stream",
     "text": [
      "CV accuracy: 0.838 +/- 0.069\n"
     ]
    }
   ],
   "source": [
    "print('CV accuracy: %.3f +/- %.3f' % (np.mean(scores), np.std(scores)))"
   ]
  },
  {
   "cell_type": "code",
   "execution_count": 111,
   "metadata": {},
   "outputs": [],
   "source": [
    "from sklearn.preprocessing import StandardScaler\n",
    "\n",
    "sc = StandardScaler()\n",
    "X_train = sc.fit_transform(X_train)\n",
    "X_test = sc.transform(X_test)"
   ]
  },
  {
   "cell_type": "markdown",
   "metadata": {},
   "source": [
    "#### NEXT WE USE SUPPORT VECTOR CLASSIFICATION SVC TO TRAIN THE TRAINING DATASET.  WE IMPORT SVC AS THE MODEL AND APPLY FIT TO THE X_TRAIN AND Y_TRAIN."
   ]
  },
  {
   "cell_type": "code",
   "execution_count": 112,
   "metadata": {},
   "outputs": [],
   "source": [
    "# Fitting SVM to the training set\n",
    "from sklearn.svm import SVC"
   ]
  },
  {
   "cell_type": "code",
   "execution_count": 113,
   "metadata": {},
   "outputs": [],
   "source": [
    "model = SVC()"
   ]
  },
  {
   "cell_type": "code",
   "execution_count": 114,
   "metadata": {},
   "outputs": [
    {
     "data": {
      "text/plain": [
       "SVC()"
      ]
     },
     "execution_count": 114,
     "metadata": {},
     "output_type": "execute_result"
    }
   ],
   "source": [
    "model.fit(X_train, y_train)"
   ]
  },
  {
   "cell_type": "markdown",
   "metadata": {},
   "source": [
    "### Confusion matrix"
   ]
  },
  {
   "cell_type": "code",
   "execution_count": 115,
   "metadata": {},
   "outputs": [],
   "source": [
    "from sklearn import metrics\n",
    "predictions = model.predict(X_test)"
   ]
  },
  {
   "cell_type": "code",
   "execution_count": 116,
   "metadata": {},
   "outputs": [
    {
     "name": "stdout",
     "output_type": "stream",
     "text": [
      "[[168   9]\n",
      " [ 19 288]]\n",
      "              precision    recall  f1-score   support\n",
      "\n",
      "           0       0.90      0.95      0.92       177\n",
      "           1       0.97      0.94      0.95       307\n",
      "\n",
      "    accuracy                           0.94       484\n",
      "   macro avg       0.93      0.94      0.94       484\n",
      "weighted avg       0.94      0.94      0.94       484\n",
      "\n"
     ]
    }
   ],
   "source": [
    "print(metrics.confusion_matrix(y_test, predictions))\n",
    "print(metrics.classification_report(y_test, predictions))"
   ]
  },
  {
   "cell_type": "markdown",
   "metadata": {},
   "source": [
    "#### TO GET THE ACCURACY OF THE MODEL A LITTLE BIT EASIER WE IMPORT ACCURACY SCORE AND WE OBTAIN EXCLUSIVELY THE ACCURACY OF THE MODEL.\n"
   ]
  },
  {
   "cell_type": "code",
   "execution_count": 117,
   "metadata": {},
   "outputs": [],
   "source": [
    "from sklearn.metrics import accuracy_score\n",
    "accuracy=accuracy_score(y_test,predictions)"
   ]
  },
  {
   "cell_type": "code",
   "execution_count": 118,
   "metadata": {},
   "outputs": [
    {
     "data": {
      "text/plain": [
       "0.9421487603305785"
      ]
     },
     "execution_count": 118,
     "metadata": {},
     "output_type": "execute_result"
    }
   ],
   "source": [
    "accuracy"
   ]
  },
  {
   "cell_type": "code",
   "execution_count": 119,
   "metadata": {},
   "outputs": [],
   "source": [
    "# from sklearn.grid_search import GridSearchCV\n",
    "from sklearn.model_selection import GridSearchCV\n",
    "from sklearn.svm import SVC"
   ]
  },
  {
   "cell_type": "code",
   "execution_count": 120,
   "metadata": {},
   "outputs": [],
   "source": [
    "param_grid = {'C':[0.1,1,10,100,1000] , 'gamma':[1,0.1,0.01,0.001,0.0001]}"
   ]
  },
  {
   "cell_type": "code",
   "execution_count": 121,
   "metadata": {},
   "outputs": [],
   "source": [
    "# defind grid using param_grid\n",
    "# Enter your code here.\n",
    "grid = GridSearchCV(SVC(), param_grid, cv = 5, verbose = 3) "
   ]
  },
  {
   "cell_type": "markdown",
   "metadata": {},
   "source": [
    "#### NEXT WE USE THE GRID TO FIT THE TRAIN DATA."
   ]
  },
  {
   "cell_type": "code",
   "execution_count": 122,
   "metadata": {},
   "outputs": [
    {
     "name": "stdout",
     "output_type": "stream",
     "text": [
      "Fitting 5 folds for each of 25 candidates, totalling 125 fits\n",
      "[CV] C=0.1, gamma=1 ..................................................\n",
      "[CV] ...................... C=0.1, gamma=1, score=0.649, total=   0.0s\n",
      "[CV] C=0.1, gamma=1 ..................................................\n",
      "[CV] ...................... C=0.1, gamma=1, score=0.649, total=   0.0s\n",
      "[CV] C=0.1, gamma=1 ..................................................\n",
      "[CV] ...................... C=0.1, gamma=1, score=0.639, total=   0.0s\n",
      "[CV] C=0.1, gamma=1 ..................................................\n",
      "[CV] ...................... C=0.1, gamma=1, score=0.646, total=   0.0s\n",
      "[CV] C=0.1, gamma=1 ..................................................\n",
      "[CV] ...................... C=0.1, gamma=1, score=0.646, total=   0.0s\n",
      "[CV] C=0.1, gamma=0.1 ................................................\n",
      "[CV] .................... C=0.1, gamma=0.1, score=0.763, total=   0.0s\n",
      "[CV] C=0.1, gamma=0.1 ................................................\n",
      "[CV] .................... C=0.1, gamma=0.1, score=0.701, total=   0.0s\n",
      "[CV] C=0.1, gamma=0.1 ................................................\n",
      "[CV] .................... C=0.1, gamma=0.1, score=0.732, total=   0.0s\n",
      "[CV] C=0.1, gamma=0.1 ................................................\n",
      "[CV] .................... C=0.1, gamma=0.1, score=0.740, total=   0.0s\n",
      "[CV] C=0.1, gamma=0.1 ................................................\n",
      "[CV] .................... C=0.1, gamma=0.1, score=0.802, total=   0.0s\n",
      "[CV] C=0.1, gamma=0.01 ...............................................\n",
      "[CV] ................... C=0.1, gamma=0.01, score=0.670, total=   0.0s"
     ]
    },
    {
     "name": "stderr",
     "output_type": "stream",
     "text": [
      "[Parallel(n_jobs=1)]: Using backend SequentialBackend with 1 concurrent workers.\n",
      "[Parallel(n_jobs=1)]: Done   1 out of   1 | elapsed:    0.0s remaining:    0.0s\n",
      "[Parallel(n_jobs=1)]: Done   2 out of   2 | elapsed:    0.0s remaining:    0.0s\n"
     ]
    },
    {
     "name": "stdout",
     "output_type": "stream",
     "text": [
      "\n",
      "[CV] C=0.1, gamma=0.01 ...............................................\n",
      "[CV] ................... C=0.1, gamma=0.01, score=0.680, total=   0.0s\n",
      "[CV] C=0.1, gamma=0.01 ...............................................\n",
      "[CV] ................... C=0.1, gamma=0.01, score=0.680, total=   0.0s\n",
      "[CV] C=0.1, gamma=0.01 ...............................................\n",
      "[CV] ................... C=0.1, gamma=0.01, score=0.698, total=   0.0s\n",
      "[CV] C=0.1, gamma=0.01 ...............................................\n",
      "[CV] ................... C=0.1, gamma=0.01, score=0.698, total=   0.0s\n",
      "[CV] C=0.1, gamma=0.001 ..............................................\n",
      "[CV] .................. C=0.1, gamma=0.001, score=0.649, total=   0.0s\n",
      "[CV] C=0.1, gamma=0.001 ..............................................\n",
      "[CV] .................. C=0.1, gamma=0.001, score=0.649, total=   0.0s\n",
      "[CV] C=0.1, gamma=0.001 ..............................................\n",
      "[CV] .................. C=0.1, gamma=0.001, score=0.639, total=   0.0s\n",
      "[CV] C=0.1, gamma=0.001 ..............................................\n",
      "[CV] .................. C=0.1, gamma=0.001, score=0.646, total=   0.0s\n",
      "[CV] C=0.1, gamma=0.001 ..............................................\n",
      "[CV] .................. C=0.1, gamma=0.001, score=0.646, total=   0.0s\n",
      "[CV] C=0.1, gamma=0.0001 .............................................\n",
      "[CV] ................. C=0.1, gamma=0.0001, score=0.649, total=   0.0s\n",
      "[CV] C=0.1, gamma=0.0001 .............................................\n",
      "[CV] ................. C=0.1, gamma=0.0001, score=0.649, total=   0.0s\n",
      "[CV] C=0.1, gamma=0.0001 .............................................\n",
      "[CV] ................. C=0.1, gamma=0.0001, score=0.639, total=   0.0s\n",
      "[CV] C=0.1, gamma=0.0001 .............................................\n",
      "[CV] ................. C=0.1, gamma=0.0001, score=0.646, total=   0.0s\n",
      "[CV] C=0.1, gamma=0.0001 .............................................\n",
      "[CV] ................. C=0.1, gamma=0.0001, score=0.646, total=   0.0s\n",
      "[CV] C=1, gamma=1 ....................................................\n",
      "[CV] ........................ C=1, gamma=1, score=0.711, total=   0.0s\n",
      "[CV] C=1, gamma=1 ....................................................\n",
      "[CV] ........................ C=1, gamma=1, score=0.742, total=   0.0s\n",
      "[CV] C=1, gamma=1 ....................................................\n",
      "[CV] ........................ C=1, gamma=1, score=0.711, total=   0.0s\n",
      "[CV] C=1, gamma=1 ....................................................\n",
      "[CV] ........................ C=1, gamma=1, score=0.750, total=   0.0s\n",
      "[CV] C=1, gamma=1 ....................................................\n",
      "[CV] ........................ C=1, gamma=1, score=0.698, total=   0.0s\n",
      "[CV] C=1, gamma=0.1 ..................................................\n",
      "[CV] ...................... C=1, gamma=0.1, score=0.907, total=   0.0s\n",
      "[CV] C=1, gamma=0.1 ..................................................\n",
      "[CV] ...................... C=1, gamma=0.1, score=0.948, total=   0.0s\n",
      "[CV] C=1, gamma=0.1 ..................................................\n",
      "[CV] ...................... C=1, gamma=0.1, score=0.938, total=   0.0s\n",
      "[CV] C=1, gamma=0.1 ..................................................\n",
      "[CV] ...................... C=1, gamma=0.1, score=0.875, total=   0.0s\n",
      "[CV] C=1, gamma=0.1 ..................................................\n",
      "[CV] ...................... C=1, gamma=0.1, score=0.906, total=   0.0s\n",
      "[CV] C=1, gamma=0.01 .................................................\n",
      "[CV] ..................... C=1, gamma=0.01, score=0.959, total=   0.0s\n",
      "[CV] C=1, gamma=0.01 .................................................\n",
      "[CV] ..................... C=1, gamma=0.01, score=0.938, total=   0.0s\n",
      "[CV] C=1, gamma=0.01 .................................................\n",
      "[CV] ..................... C=1, gamma=0.01, score=0.938, total=   0.0s\n",
      "[CV] C=1, gamma=0.01 .................................................\n",
      "[CV] ..................... C=1, gamma=0.01, score=0.906, total=   0.0s\n",
      "[CV] C=1, gamma=0.01 .................................................\n",
      "[CV] ..................... C=1, gamma=0.01, score=0.938, total=   0.0s\n",
      "[CV] C=1, gamma=0.001 ................................................\n",
      "[CV] .................... C=1, gamma=0.001, score=0.763, total=   0.0s\n",
      "[CV] C=1, gamma=0.001 ................................................\n",
      "[CV] .................... C=1, gamma=0.001, score=0.742, total=   0.0s\n",
      "[CV] C=1, gamma=0.001 ................................................\n",
      "[CV] .................... C=1, gamma=0.001, score=0.742, total=   0.0s\n",
      "[CV] C=1, gamma=0.001 ................................................\n",
      "[CV] .................... C=1, gamma=0.001, score=0.729, total=   0.0s\n",
      "[CV] C=1, gamma=0.001 ................................................\n",
      "[CV] .................... C=1, gamma=0.001, score=0.792, total=   0.0s\n",
      "[CV] C=1, gamma=0.0001 ...............................................\n",
      "[CV] ................... C=1, gamma=0.0001, score=0.649, total=   0.0s\n",
      "[CV] C=1, gamma=0.0001 ...............................................\n",
      "[CV] ................... C=1, gamma=0.0001, score=0.649, total=   0.0s\n",
      "[CV] C=1, gamma=0.0001 ...............................................\n",
      "[CV] ................... C=1, gamma=0.0001, score=0.639, total=   0.0s\n",
      "[CV] C=1, gamma=0.0001 ...............................................\n",
      "[CV] ................... C=1, gamma=0.0001, score=0.646, total=   0.0s\n",
      "[CV] C=1, gamma=0.0001 ...............................................\n",
      "[CV] ................... C=1, gamma=0.0001, score=0.646, total=   0.0s\n",
      "[CV] C=10, gamma=1 ...................................................\n",
      "[CV] ....................... C=10, gamma=1, score=0.711, total=   0.0s\n",
      "[CV] C=10, gamma=1 ...................................................\n",
      "[CV] ....................... C=10, gamma=1, score=0.763, total=   0.0s\n",
      "[CV] C=10, gamma=1 ...................................................\n",
      "[CV] ....................... C=10, gamma=1, score=0.722, total=   0.0s\n",
      "[CV] C=10, gamma=1 ...................................................\n",
      "[CV] ....................... C=10, gamma=1, score=0.771, total=   0.0s\n",
      "[CV] C=10, gamma=1 ...................................................\n",
      "[CV] ....................... C=10, gamma=1, score=0.719, total=   0.0s\n",
      "[CV] C=10, gamma=0.1 .................................................\n",
      "[CV] ..................... C=10, gamma=0.1, score=0.907, total=   0.0s\n",
      "[CV] C=10, gamma=0.1 .................................................\n",
      "[CV] ..................... C=10, gamma=0.1, score=0.969, total=   0.0s\n",
      "[CV] C=10, gamma=0.1 .................................................\n",
      "[CV] ..................... C=10, gamma=0.1, score=0.948, total=   0.0s\n",
      "[CV] C=10, gamma=0.1 .................................................\n",
      "[CV] ..................... C=10, gamma=0.1, score=0.885, total=   0.0s\n",
      "[CV] C=10, gamma=0.1 .................................................\n",
      "[CV] ..................... C=10, gamma=0.1, score=0.917, total=   0.0s\n",
      "[CV] C=10, gamma=0.01 ................................................\n",
      "[CV] .................... C=10, gamma=0.01, score=0.969, total=   0.0s\n",
      "[CV] C=10, gamma=0.01 ................................................\n",
      "[CV] .................... C=10, gamma=0.01, score=1.000, total=   0.0s\n",
      "[CV] C=10, gamma=0.01 ................................................\n",
      "[CV] .................... C=10, gamma=0.01, score=0.990, total=   0.0s\n",
      "[CV] C=10, gamma=0.01 ................................................\n",
      "[CV] .................... C=10, gamma=0.01, score=0.948, total=   0.0s\n",
      "[CV] C=10, gamma=0.01 ................................................\n",
      "[CV] .................... C=10, gamma=0.01, score=0.979, total=   0.0s\n",
      "[CV] C=10, gamma=0.001 ...............................................\n",
      "[CV] ................... C=10, gamma=0.001, score=0.969, total=   0.0s\n",
      "[CV] C=10, gamma=0.001 ...............................................\n",
      "[CV] ................... C=10, gamma=0.001, score=0.959, total=   0.0s\n",
      "[CV] C=10, gamma=0.001 ...............................................\n",
      "[CV] ................... C=10, gamma=0.001, score=0.959, total=   0.0s\n",
      "[CV] C=10, gamma=0.001 ...............................................\n",
      "[CV] ................... C=10, gamma=0.001, score=0.917, total=   0.0s\n",
      "[CV] C=10, gamma=0.001 ...............................................\n",
      "[CV] ................... C=10, gamma=0.001, score=0.927, total=   0.0s\n",
      "[CV] C=10, gamma=0.0001 ..............................................\n",
      "[CV] .................. C=10, gamma=0.0001, score=0.773, total=   0.0s\n",
      "[CV] C=10, gamma=0.0001 ..............................................\n",
      "[CV] .................. C=10, gamma=0.0001, score=0.753, total=   0.0s\n",
      "[CV] C=10, gamma=0.0001 ..............................................\n",
      "[CV] .................. C=10, gamma=0.0001, score=0.742, total=   0.0s\n",
      "[CV] C=10, gamma=0.0001 ..............................................\n",
      "[CV] .................. C=10, gamma=0.0001, score=0.729, total=   0.0s\n",
      "[CV] C=10, gamma=0.0001 ..............................................\n",
      "[CV] .................. C=10, gamma=0.0001, score=0.823, total=   0.0s\n",
      "[CV] C=100, gamma=1 ..................................................\n",
      "[CV] ...................... C=100, gamma=1, score=0.711, total=   0.0s\n",
      "[CV] C=100, gamma=1 ..................................................\n",
      "[CV] ...................... C=100, gamma=1, score=0.763, total=   0.0s\n",
      "[CV] C=100, gamma=1 ..................................................\n",
      "[CV] ...................... C=100, gamma=1, score=0.722, total=   0.0s\n",
      "[CV] C=100, gamma=1 ..................................................\n",
      "[CV] ...................... C=100, gamma=1, score=0.771, total=   0.0s\n",
      "[CV] C=100, gamma=1 ..................................................\n",
      "[CV] ...................... C=100, gamma=1, score=0.719, total=   0.0s\n",
      "[CV] C=100, gamma=0.1 ................................................\n",
      "[CV] .................... C=100, gamma=0.1, score=0.907, total=   0.0s\n",
      "[CV] C=100, gamma=0.1 ................................................\n",
      "[CV] .................... C=100, gamma=0.1, score=0.979, total=   0.0s\n",
      "[CV] C=100, gamma=0.1 ................................................\n",
      "[CV] .................... C=100, gamma=0.1, score=0.948, total=   0.0s\n",
      "[CV] C=100, gamma=0.1 ................................................\n",
      "[CV] .................... C=100, gamma=0.1, score=0.896, total=   0.0s\n",
      "[CV] C=100, gamma=0.1 ................................................\n",
      "[CV] .................... C=100, gamma=0.1, score=0.948, total=   0.0s\n",
      "[CV] C=100, gamma=0.01 ...............................................\n",
      "[CV] ................... C=100, gamma=0.01, score=0.948, total=   0.0s\n",
      "[CV] C=100, gamma=0.01 ...............................................\n",
      "[CV] ................... C=100, gamma=0.01, score=0.990, total=   0.0s\n",
      "[CV] C=100, gamma=0.01 ...............................................\n",
      "[CV] ................... C=100, gamma=0.01, score=0.979, total=   0.0s\n",
      "[CV] C=100, gamma=0.01 ...............................................\n",
      "[CV] ................... C=100, gamma=0.01, score=0.927, total=   0.0s\n",
      "[CV] C=100, gamma=0.01 ...............................................\n",
      "[CV] ................... C=100, gamma=0.01, score=0.990, total=   0.0s\n",
      "[CV] C=100, gamma=0.001 ..............................................\n",
      "[CV] .................. C=100, gamma=0.001, score=0.959, total=   0.0s\n",
      "[CV] C=100, gamma=0.001 ..............................................\n",
      "[CV] .................. C=100, gamma=0.001, score=1.000, total=   0.0s\n",
      "[CV] C=100, gamma=0.001 ..............................................\n",
      "[CV] .................. C=100, gamma=0.001, score=0.979, total=   0.0s\n",
      "[CV] C=100, gamma=0.001 ..............................................\n",
      "[CV] .................. C=100, gamma=0.001, score=0.938, total=   0.0s\n",
      "[CV] C=100, gamma=0.001 ..............................................\n",
      "[CV] .................. C=100, gamma=0.001, score=1.000, total=   0.0s\n",
      "[CV] C=100, gamma=0.0001 .............................................\n",
      "[CV] ................. C=100, gamma=0.0001, score=0.969, total=   0.0s\n",
      "[CV] C=100, gamma=0.0001 .............................................\n",
      "[CV] ................. C=100, gamma=0.0001, score=0.959, total=   0.0s\n",
      "[CV] C=100, gamma=0.0001 .............................................\n",
      "[CV] ................. C=100, gamma=0.0001, score=0.959, total=   0.0s\n",
      "[CV] C=100, gamma=0.0001 .............................................\n",
      "[CV] ................. C=100, gamma=0.0001, score=0.917, total=   0.0s\n",
      "[CV] C=100, gamma=0.0001 .............................................\n",
      "[CV] ................. C=100, gamma=0.0001, score=0.927, total=   0.0s\n",
      "[CV] C=1000, gamma=1 .................................................\n",
      "[CV] ..................... C=1000, gamma=1, score=0.711, total=   0.0s\n",
      "[CV] C=1000, gamma=1 .................................................\n",
      "[CV] ..................... C=1000, gamma=1, score=0.763, total=   0.0s\n",
      "[CV] C=1000, gamma=1 .................................................\n",
      "[CV] ..................... C=1000, gamma=1, score=0.722, total=   0.0s\n",
      "[CV] C=1000, gamma=1 .................................................\n",
      "[CV] ..................... C=1000, gamma=1, score=0.771, total=   0.0s\n",
      "[CV] C=1000, gamma=1 .................................................\n",
      "[CV] ..................... C=1000, gamma=1, score=0.719, total=   0.0s\n",
      "[CV] C=1000, gamma=0.1 ...............................................\n",
      "[CV] ................... C=1000, gamma=0.1, score=0.907, total=   0.0s\n",
      "[CV] C=1000, gamma=0.1 ...............................................\n",
      "[CV] ................... C=1000, gamma=0.1, score=0.979, total=   0.0s\n",
      "[CV] C=1000, gamma=0.1 ...............................................\n",
      "[CV] ................... C=1000, gamma=0.1, score=0.948, total=   0.0s\n",
      "[CV] C=1000, gamma=0.1 ...............................................\n",
      "[CV] ................... C=1000, gamma=0.1, score=0.896, total=   0.0s\n",
      "[CV] C=1000, gamma=0.1 ...............................................\n",
      "[CV] ................... C=1000, gamma=0.1, score=0.958, total=   0.0s\n",
      "[CV] C=1000, gamma=0.01 ..............................................\n",
      "[CV] .................. C=1000, gamma=0.01, score=0.938, total=   0.0s\n",
      "[CV] C=1000, gamma=0.01 ..............................................\n",
      "[CV] .................. C=1000, gamma=0.01, score=1.000, total=   0.0s\n",
      "[CV] C=1000, gamma=0.01 ..............................................\n",
      "[CV] .................. C=1000, gamma=0.01, score=0.959, total=   0.0s\n",
      "[CV] C=1000, gamma=0.01 ..............................................\n",
      "[CV] .................. C=1000, gamma=0.01, score=0.927, total=   0.0s\n",
      "[CV] C=1000, gamma=0.01 ..............................................\n",
      "[CV] .................. C=1000, gamma=0.01, score=0.990, total=   0.0s\n",
      "[CV] C=1000, gamma=0.001 .............................................\n",
      "[CV] ................. C=1000, gamma=0.001, score=0.959, total=   0.0s\n",
      "[CV] C=1000, gamma=0.001 .............................................\n",
      "[CV] ................. C=1000, gamma=0.001, score=1.000, total=   0.0s\n",
      "[CV] C=1000, gamma=0.001 .............................................\n",
      "[CV] ................. C=1000, gamma=0.001, score=0.979, total=   0.0s\n",
      "[CV] C=1000, gamma=0.001 .............................................\n",
      "[CV] ................. C=1000, gamma=0.001, score=0.948, total=   0.0s\n",
      "[CV] C=1000, gamma=0.001 .............................................\n",
      "[CV] ................. C=1000, gamma=0.001, score=1.000, total=   0.0s\n",
      "[CV] C=1000, gamma=0.0001 ............................................\n",
      "[CV] ................ C=1000, gamma=0.0001, score=0.959, total=   0.0s\n",
      "[CV] C=1000, gamma=0.0001 ............................................\n",
      "[CV] ................ C=1000, gamma=0.0001, score=1.000, total=   0.0s\n",
      "[CV] C=1000, gamma=0.0001 ............................................\n",
      "[CV] ................ C=1000, gamma=0.0001, score=0.979, total=   0.0s\n",
      "[CV] C=1000, gamma=0.0001 ............................................\n",
      "[CV] ................ C=1000, gamma=0.0001, score=0.938, total=   0.0s\n",
      "[CV] C=1000, gamma=0.0001 ............................................\n",
      "[CV] ................ C=1000, gamma=0.0001, score=0.990, total=   0.0s\n"
     ]
    },
    {
     "name": "stderr",
     "output_type": "stream",
     "text": [
      "[Parallel(n_jobs=1)]: Done 125 out of 125 | elapsed:    1.4s finished\n"
     ]
    },
    {
     "data": {
      "text/plain": [
       "GridSearchCV(cv=5, estimator=SVC(),\n",
       "             param_grid={'C': [0.1, 1, 10, 100, 1000],\n",
       "                         'gamma': [1, 0.1, 0.01, 0.001, 0.0001]},\n",
       "             verbose=3)"
      ]
     },
     "execution_count": 122,
     "metadata": {},
     "output_type": "execute_result"
    }
   ],
   "source": [
    "# Enter your code here.\n",
    "grid.fit(X_train, y_train) "
   ]
  },
  {
   "cell_type": "markdown",
   "metadata": {},
   "source": [
    "#### RECALCULATING THE CONFUSION MATRIX TO CHECK ACCURACY. WE OBTAIN 0.98 IMPROVING THE ACCURACY OBTAINED AT THE BEGINNING.\n"
   ]
  },
  {
   "cell_type": "code",
   "execution_count": 123,
   "metadata": {},
   "outputs": [
    {
     "name": "stdout",
     "output_type": "stream",
     "text": [
      "              precision    recall  f1-score   support\n",
      "\n",
      "           0       0.98      0.95      0.97       177\n",
      "           1       0.97      0.99      0.98       307\n",
      "\n",
      "    accuracy                           0.98       484\n",
      "   macro avg       0.98      0.97      0.98       484\n",
      "weighted avg       0.98      0.98      0.98       484\n",
      "\n"
     ]
    }
   ],
   "source": [
    "grid_predictions = grid.predict(X_test) \n",
    "  \n",
    "# print classification report \n",
    "print(metrics.classification_report(y_test, grid_predictions)) "
   ]
  },
  {
   "cell_type": "code",
   "execution_count": 124,
   "metadata": {},
   "outputs": [
    {
     "data": {
      "text/plain": [
       "0.9772121993127147"
      ]
     },
     "execution_count": 124,
     "metadata": {},
     "output_type": "execute_result"
    }
   ],
   "source": [
    "accuracy = grid.best_score_\n",
    "accuracy"
   ]
  },
  {
   "cell_type": "markdown",
   "metadata": {},
   "source": [
    "## Validation and  learning curves."
   ]
  },
  {
   "cell_type": "code",
   "execution_count": 125,
   "metadata": {},
   "outputs": [],
   "source": [
    "from sklearn.model_selection import learning_curve"
   ]
  },
  {
   "cell_type": "code",
   "execution_count": 126,
   "metadata": {},
   "outputs": [],
   "source": [
    "import matplotlib.pyplot as plt\n",
    "from sklearn.model_selection import learning_curve\n",
    "\n",
    "pipe_lr = make_pipeline(StandardScaler(),LogisticRegression(penalty='l2',random_state=1,solver='lbfgs', max_iter=10000))\n",
    "train_sizes, train_scores, test_scores = learning_curve(estimator=pipe_lr, X=X_train, y=y_train,train_sizes=np.linspace(\\\n",
    "                                                        0.1, 1.0, 10), cv=10, n_jobs=1)\n",
    "train_mean = np.mean(train_scores, axis=1)\n",
    "train_std = np.std(train_scores, axis=1)\n",
    "test_mean = np.mean(test_scores, axis=1)\n",
    "test_std = np.std(test_scores, axis=1)"
   ]
  },
  {
   "cell_type": "code",
   "execution_count": 127,
   "metadata": {},
   "outputs": [
    {
     "data": {
      "image/png": "[encoded data removed]",
      "text/plain": [
       "<Figure size 432x288 with 1 Axes>"
      ]
     },
     "metadata": {},
     "output_type": "display_data"
    }
   ],
   "source": [
    "plt.plot(train_sizes, train_mean, color='blue', marker='o', markersize=5, label='Training accuracy')\n",
    "plt.fill_between(train_sizes, train_mean + train_std, train_mean - train_std, alpha=0.15, color='blue')\n",
    "plt.plot(train_sizes, test_mean, color='green', linestyle='--', marker='s', markersize=5, label='Validation accuracy')\n",
    "plt.fill_between(train_sizes, test_mean + test_std, test_mean - test_std, alpha=0.15, color='green')\n",
    "\n",
    "plt.xlabel('Number of training examples')\n",
    "plt.ylabel('Accuracy')\n",
    "plt.legend(loc='lower right')\n",
    "plt.ylim([0.8, 1.03])\n",
    "plt.show()"
   ]
  },
  {
   "cell_type": "code",
   "execution_count": 128,
   "metadata": {},
   "outputs": [
    {
     "data": {
      "image/png": "[encoded data removed]",
      "text/plain": [
       "<Figure size 432x288 with 1 Axes>"
      ]
     },
     "metadata": {},
     "output_type": "display_data"
    }
   ],
   "source": [
    "plt.plot(train_sizes, train_mean, color=\"blue\",  label=\"Training score\")\n",
    "plt.plot(train_sizes, test_mean, color=\"orange\", label=\"Cross-validation score\")\n",
    "\n",
    "# Draw band\n",
    "plt.fill_between(train_sizes, test_mean - test_std, test_mean + test_std, color=\"lightgreen\")\n",
    "\n",
    "# Create plot\n",
    "plt.title(\"Learning Curve\")\n",
    "plt.xlabel(\"Training Size\"), plt.ylabel(\"Accuracy Score\"), plt.legend(loc=\"lower right\")\n",
    "plt.tight_layout()\n",
    "plt.show()"
   ]
  },
  {
   "cell_type": "markdown",
   "metadata": {},
   "source": [
    "## Addressing overfitting with validation curves"
   ]
  },
  {
   "cell_type": "code",
   "execution_count": 129,
   "metadata": {},
   "outputs": [
    {
     "data": {
      "image/png": "[encoded data removed]",
      "text/plain": [
       "<Figure size 432x288 with 1 Axes>"
      ]
     },
     "metadata": {},
     "output_type": "display_data"
    }
   ],
   "source": [
    "from sklearn.model_selection import validation_curve\n",
    "param_range = [0.001, 0.01, 0.1, 1.0, 10.0, 100.0] \n",
    "train_scores, test_scores = validation_curve(estimator=pipe_lr, X=X_train, y=y_train, param_name='logisticregression__C',\\\n",
    "                                                param_range=param_range,cv=10)\n",
    "train_mean = np.mean(train_scores, axis=1)\n",
    "train_std = np.std(train_scores, axis=1)\n",
    "test_mean = np.mean(test_scores, axis=1)\n",
    "test_std = np.std(test_scores, axis=1)\n",
    "plt.plot(param_range, train_mean,color='blue', marker='o',markersize=5, label='Training accuracy')\n",
    "plt.fill_between(param_range, train_mean + train_std,train_mean - train_std, alpha=0.15, color='blue')\n",
    "plt.plot(param_range, test_mean,color='green', linestyle='--',marker='s', markersize=5,label='Validation accuracy')\n",
    "plt.fill_between(param_range,test_mean + test_std,test_mean - test_std,alpha=0.15, color='green')\n",
    "\n",
    "plt.xscale('log')\n",
    "plt.legend(loc='lower right')\n",
    "plt.xlabel('Parameter C')\n",
    "plt.ylabel('Accuracy')\n",
    "plt.ylim([0.8, 1.01])\n",
    "plt.show()"
   ]
  },
  {
   "cell_type": "markdown",
   "metadata": {},
   "source": [
    "## ROC-AUC curve"
   ]
  },
  {
   "cell_type": "code",
   "execution_count": 130,
   "metadata": {},
   "outputs": [
    {
     "data": {
      "text/html": [
       "<div>\n",
       "<style scoped>\n",
       "    .dataframe tbody tr th:only-of-type {\n",
       "        vertical-align: middle;\n",
       "    }\n",
       "\n",
       "    .dataframe tbody tr th {\n",
       "        vertical-align: top;\n",
       "    }\n",
       "\n",
       "    .dataframe thead th {\n",
       "        text-align: right;\n",
       "    }\n",
       "</style>\n",
       "<table border=\"1\" class=\"dataframe\">\n",
       "  <thead>\n",
       "    <tr style=\"text-align: right;\">\n",
       "      <th></th>\n",
       "      <th>PC1</th>\n",
       "      <th>PC2</th>\n",
       "    </tr>\n",
       "  </thead>\n",
       "  <tbody>\n",
       "    <tr>\n",
       "      <td>0</td>\n",
       "      <td>2.187372</td>\n",
       "      <td>0.062265</td>\n",
       "    </tr>\n",
       "    <tr>\n",
       "      <td>1</td>\n",
       "      <td>0.038387</td>\n",
       "      <td>-2.348128</td>\n",
       "    </tr>\n",
       "    <tr>\n",
       "      <td>2</td>\n",
       "      <td>-2.261299</td>\n",
       "      <td>-1.394545</td>\n",
       "    </tr>\n",
       "    <tr>\n",
       "      <td>3</td>\n",
       "      <td>-1.138142</td>\n",
       "      <td>-1.910499</td>\n",
       "    </tr>\n",
       "    <tr>\n",
       "      <td>4</td>\n",
       "      <td>2.610555</td>\n",
       "      <td>-0.817366</td>\n",
       "    </tr>\n",
       "  </tbody>\n",
       "</table>\n",
       "</div>"
      ],
      "text/plain": [
       "        PC1       PC2\n",
       "0  2.187372  0.062265\n",
       "1  0.038387 -2.348128\n",
       "2 -2.261299 -1.394545\n",
       "3 -1.138142 -1.910499\n",
       "4  2.610555 -0.817366"
      ]
     },
     "execution_count": 130,
     "metadata": {},
     "output_type": "execute_result"
    }
   ],
   "source": [
    "from sklearn.decomposition import PCA\n",
    "\n",
    "df_scaled_pca = PCA(n_components=2).fit_transform(df_scaled)\n",
    "df_scaled_pca = pd.DataFrame(df_scaled_pca, columns=[\"PC1\", \"PC2\"])\n",
    "\n",
    "df_scaled_pca.head()"
   ]
  },
  {
   "cell_type": "code",
   "execution_count": 131,
   "metadata": {},
   "outputs": [
    {
     "data": {
      "text/html": [
       "<div>\n",
       "<style scoped>\n",
       "    .dataframe tbody tr th:only-of-type {\n",
       "        vertical-align: middle;\n",
       "    }\n",
       "\n",
       "    .dataframe tbody tr th {\n",
       "        vertical-align: top;\n",
       "    }\n",
       "\n",
       "    .dataframe thead th {\n",
       "        text-align: right;\n",
       "    }\n",
       "</style>\n",
       "<table border=\"1\" class=\"dataframe\">\n",
       "  <thead>\n",
       "    <tr style=\"text-align: right;\">\n",
       "      <th></th>\n",
       "      <th>Sex.Male</th>\n",
       "      <th>Initial.Treatment.Response.No response</th>\n",
       "      <th>Initial.Treatment.Response.Partial response</th>\n",
       "      <th>B.Symptoms.at.Diagnosis.Yes</th>\n",
       "      <th>Testicular.Involvement.No</th>\n",
       "      <th>Testicular.Involvement.Yes</th>\n",
       "      <th>CNS.Status.Yes</th>\n",
       "      <th>CNS.Relapse.Yes</th>\n",
       "      <th>Age.at.Diagnosis</th>\n",
       "      <th>ECOG.IPI.Score</th>\n",
       "      <th>AnnArbor.Stage.IPI</th>\n",
       "      <th>LDH.IPI.Factor</th>\n",
       "      <th>Extranodal.IPI.Factor</th>\n",
       "      <th>Age.IPI.Factor</th>\n",
       "      <th>Overall.Survival..Months.</th>\n",
       "      <th>survival_years</th>\n",
       "      <th>target</th>\n",
       "    </tr>\n",
       "  </thead>\n",
       "  <tbody>\n",
       "    <tr>\n",
       "      <td>0</td>\n",
       "      <td>1</td>\n",
       "      <td>0</td>\n",
       "      <td>0</td>\n",
       "      <td>1</td>\n",
       "      <td>1</td>\n",
       "      <td>0</td>\n",
       "      <td>0</td>\n",
       "      <td>0</td>\n",
       "      <td>74.7</td>\n",
       "      <td>0.0</td>\n",
       "      <td>1.0</td>\n",
       "      <td>1.0</td>\n",
       "      <td>0.0</td>\n",
       "      <td>1.0</td>\n",
       "      <td>13.376</td>\n",
       "      <td>1.114667</td>\n",
       "      <td>0</td>\n",
       "    </tr>\n",
       "    <tr>\n",
       "      <td>1</td>\n",
       "      <td>0</td>\n",
       "      <td>0</td>\n",
       "      <td>1</td>\n",
       "      <td>0</td>\n",
       "      <td>0</td>\n",
       "      <td>0</td>\n",
       "      <td>0</td>\n",
       "      <td>0</td>\n",
       "      <td>87.8</td>\n",
       "      <td>1.0</td>\n",
       "      <td>0.0</td>\n",
       "      <td>1.0</td>\n",
       "      <td>0.0</td>\n",
       "      <td>1.0</td>\n",
       "      <td>142.880</td>\n",
       "      <td>11.906667</td>\n",
       "      <td>1</td>\n",
       "    </tr>\n",
       "    <tr>\n",
       "      <td>2</td>\n",
       "      <td>0</td>\n",
       "      <td>0</td>\n",
       "      <td>0</td>\n",
       "      <td>0</td>\n",
       "      <td>0</td>\n",
       "      <td>0</td>\n",
       "      <td>0</td>\n",
       "      <td>0</td>\n",
       "      <td>76.6</td>\n",
       "      <td>0.0</td>\n",
       "      <td>1.0</td>\n",
       "      <td>1.0</td>\n",
       "      <td>0.0</td>\n",
       "      <td>1.0</td>\n",
       "      <td>279.376</td>\n",
       "      <td>23.281333</td>\n",
       "      <td>1</td>\n",
       "    </tr>\n",
       "    <tr>\n",
       "      <td>3</td>\n",
       "      <td>0</td>\n",
       "      <td>0</td>\n",
       "      <td>1</td>\n",
       "      <td>0</td>\n",
       "      <td>0</td>\n",
       "      <td>0</td>\n",
       "      <td>0</td>\n",
       "      <td>0</td>\n",
       "      <td>70.9</td>\n",
       "      <td>0.0</td>\n",
       "      <td>0.0</td>\n",
       "      <td>1.0</td>\n",
       "      <td>0.0</td>\n",
       "      <td>1.0</td>\n",
       "      <td>181.184</td>\n",
       "      <td>15.098667</td>\n",
       "      <td>1</td>\n",
       "    </tr>\n",
       "    <tr>\n",
       "      <td>4</td>\n",
       "      <td>1</td>\n",
       "      <td>1</td>\n",
       "      <td>0</td>\n",
       "      <td>0</td>\n",
       "      <td>0</td>\n",
       "      <td>0</td>\n",
       "      <td>0</td>\n",
       "      <td>0</td>\n",
       "      <td>71.5</td>\n",
       "      <td>1.0</td>\n",
       "      <td>1.0</td>\n",
       "      <td>0.0</td>\n",
       "      <td>0.0</td>\n",
       "      <td>1.0</td>\n",
       "      <td>24.320</td>\n",
       "      <td>2.026667</td>\n",
       "      <td>0</td>\n",
       "    </tr>\n",
       "  </tbody>\n",
       "</table>\n",
       "</div>"
      ],
      "text/plain": [
       "   Sex.Male  Initial.Treatment.Response.No response  \\\n",
       "0         1                                       0   \n",
       "1         0                                       0   \n",
       "2         0                                       0   \n",
       "3         0                                       0   \n",
       "4         1                                       1   \n",
       "\n",
       "   Initial.Treatment.Response.Partial response  B.Symptoms.at.Diagnosis.Yes  \\\n",
       "0                                            0                            1   \n",
       "1                                            1                            0   \n",
       "2                                            0                            0   \n",
       "3                                            1                            0   \n",
       "4                                            0                            0   \n",
       "\n",
       "   Testicular.Involvement.No  Testicular.Involvement.Yes  CNS.Status.Yes  \\\n",
       "0                          1                           0               0   \n",
       "1                          0                           0               0   \n",
       "2                          0                           0               0   \n",
       "3                          0                           0               0   \n",
       "4                          0                           0               0   \n",
       "\n",
       "   CNS.Relapse.Yes  Age.at.Diagnosis  ECOG.IPI.Score  AnnArbor.Stage.IPI  \\\n",
       "0                0              74.7             0.0                 1.0   \n",
       "1                0              87.8             1.0                 0.0   \n",
       "2                0              76.6             0.0                 1.0   \n",
       "3                0              70.9             0.0                 0.0   \n",
       "4                0              71.5             1.0                 1.0   \n",
       "\n",
       "   LDH.IPI.Factor  Extranodal.IPI.Factor  Age.IPI.Factor  \\\n",
       "0             1.0                    0.0             1.0   \n",
       "1             1.0                    0.0             1.0   \n",
       "2             1.0                    0.0             1.0   \n",
       "3             1.0                    0.0             1.0   \n",
       "4             0.0                    0.0             1.0   \n",
       "\n",
       "   Overall.Survival..Months.  survival_years  target  \n",
       "0                     13.376        1.114667       0  \n",
       "1                    142.880       11.906667       1  \n",
       "2                    279.376       23.281333       1  \n",
       "3                    181.184       15.098667       1  \n",
       "4                     24.320        2.026667       0  "
      ]
     },
     "execution_count": 131,
     "metadata": {},
     "output_type": "execute_result"
    }
   ],
   "source": [
    "lymphoma_data.head()"
   ]
  },
  {
   "cell_type": "code",
   "execution_count": 132,
   "metadata": {},
   "outputs": [
    {
     "data": {
      "text/html": [
       "<div>\n",
       "<style scoped>\n",
       "    .dataframe tbody tr th:only-of-type {\n",
       "        vertical-align: middle;\n",
       "    }\n",
       "\n",
       "    .dataframe tbody tr th {\n",
       "        vertical-align: top;\n",
       "    }\n",
       "\n",
       "    .dataframe thead th {\n",
       "        text-align: right;\n",
       "    }\n",
       "</style>\n",
       "<table border=\"1\" class=\"dataframe\">\n",
       "  <thead>\n",
       "    <tr style=\"text-align: right;\">\n",
       "      <th></th>\n",
       "      <th>0</th>\n",
       "      <th>1</th>\n",
       "      <th>2</th>\n",
       "      <th>3</th>\n",
       "      <th>4</th>\n",
       "      <th>5</th>\n",
       "      <th>6</th>\n",
       "      <th>7</th>\n",
       "      <th>8</th>\n",
       "      <th>9</th>\n",
       "      <th>10</th>\n",
       "      <th>11</th>\n",
       "      <th>12</th>\n",
       "      <th>13</th>\n",
       "      <th>14</th>\n",
       "      <th>15</th>\n",
       "      <th>16</th>\n",
       "    </tr>\n",
       "  </thead>\n",
       "  <tbody>\n",
       "    <tr>\n",
       "      <td>0</td>\n",
       "      <td>0.872573</td>\n",
       "      <td>-0.277196</td>\n",
       "      <td>-0.316408</td>\n",
       "      <td>1.370393</td>\n",
       "      <td>1.185526</td>\n",
       "      <td>-0.207726</td>\n",
       "      <td>-0.159533</td>\n",
       "      <td>-0.159533</td>\n",
       "      <td>0.917533</td>\n",
       "      <td>-0.572972</td>\n",
       "      <td>0.827447</td>\n",
       "      <td>0.998966</td>\n",
       "      <td>-0.523493</td>\n",
       "      <td>0.906141</td>\n",
       "      <td>-1.152845</td>\n",
       "      <td>-1.152845</td>\n",
       "      <td>-1.333692</td>\n",
       "    </tr>\n",
       "    <tr>\n",
       "      <td>1</td>\n",
       "      <td>-1.146035</td>\n",
       "      <td>-0.277196</td>\n",
       "      <td>3.160480</td>\n",
       "      <td>-0.729718</td>\n",
       "      <td>-0.843507</td>\n",
       "      <td>-0.207726</td>\n",
       "      <td>-0.159533</td>\n",
       "      <td>-0.159533</td>\n",
       "      <td>1.784554</td>\n",
       "      <td>1.745287</td>\n",
       "      <td>-1.208536</td>\n",
       "      <td>0.998966</td>\n",
       "      <td>-0.523493</td>\n",
       "      <td>0.906141</td>\n",
       "      <td>0.402783</td>\n",
       "      <td>0.402783</td>\n",
       "      <td>0.749798</td>\n",
       "    </tr>\n",
       "    <tr>\n",
       "      <td>2</td>\n",
       "      <td>-1.146035</td>\n",
       "      <td>-0.277196</td>\n",
       "      <td>-0.316408</td>\n",
       "      <td>-0.729718</td>\n",
       "      <td>-0.843507</td>\n",
       "      <td>-0.207726</td>\n",
       "      <td>-0.159533</td>\n",
       "      <td>-0.159533</td>\n",
       "      <td>1.043284</td>\n",
       "      <td>-0.572972</td>\n",
       "      <td>0.827447</td>\n",
       "      <td>0.998966</td>\n",
       "      <td>-0.523493</td>\n",
       "      <td>0.906141</td>\n",
       "      <td>2.042400</td>\n",
       "      <td>2.042400</td>\n",
       "      <td>0.749798</td>\n",
       "    </tr>\n",
       "    <tr>\n",
       "      <td>3</td>\n",
       "      <td>-1.146035</td>\n",
       "      <td>-0.277196</td>\n",
       "      <td>3.160480</td>\n",
       "      <td>-0.729718</td>\n",
       "      <td>-0.843507</td>\n",
       "      <td>-0.207726</td>\n",
       "      <td>-0.159533</td>\n",
       "      <td>-0.159533</td>\n",
       "      <td>0.666030</td>\n",
       "      <td>-0.572972</td>\n",
       "      <td>-1.208536</td>\n",
       "      <td>0.998966</td>\n",
       "      <td>-0.523493</td>\n",
       "      <td>0.906141</td>\n",
       "      <td>0.862898</td>\n",
       "      <td>0.862898</td>\n",
       "      <td>0.749798</td>\n",
       "    </tr>\n",
       "    <tr>\n",
       "      <td>4</td>\n",
       "      <td>0.872573</td>\n",
       "      <td>3.607560</td>\n",
       "      <td>-0.316408</td>\n",
       "      <td>-0.729718</td>\n",
       "      <td>-0.843507</td>\n",
       "      <td>-0.207726</td>\n",
       "      <td>-0.159533</td>\n",
       "      <td>-0.159533</td>\n",
       "      <td>0.705741</td>\n",
       "      <td>1.745287</td>\n",
       "      <td>0.827447</td>\n",
       "      <td>-1.001035</td>\n",
       "      <td>-0.523493</td>\n",
       "      <td>0.906141</td>\n",
       "      <td>-1.021383</td>\n",
       "      <td>-1.021383</td>\n",
       "      <td>-1.333692</td>\n",
       "    </tr>\n",
       "  </tbody>\n",
       "</table>\n",
       "</div>"
      ],
      "text/plain": [
       "          0         1         2         3         4         5         6  \\\n",
       "0  0.872573 -0.277196 -0.316408  1.370393  1.185526 -0.207726 -0.159533   \n",
       "1 -1.146035 -0.277196  3.160480 -0.729718 -0.843507 -0.207726 -0.159533   \n",
       "2 -1.146035 -0.277196 -0.316408 -0.729718 -0.843507 -0.207726 -0.159533   \n",
       "3 -1.146035 -0.277196  3.160480 -0.729718 -0.843507 -0.207726 -0.159533   \n",
       "4  0.872573  3.607560 -0.316408 -0.729718 -0.843507 -0.207726 -0.159533   \n",
       "\n",
       "          7         8         9        10        11        12        13  \\\n",
       "0 -0.159533  0.917533 -0.572972  0.827447  0.998966 -0.523493  0.906141   \n",
       "1 -0.159533  1.784554  1.745287 -1.208536  0.998966 -0.523493  0.906141   \n",
       "2 -0.159533  1.043284 -0.572972  0.827447  0.998966 -0.523493  0.906141   \n",
       "3 -0.159533  0.666030 -0.572972 -1.208536  0.998966 -0.523493  0.906141   \n",
       "4 -0.159533  0.705741  1.745287  0.827447 -1.001035 -0.523493  0.906141   \n",
       "\n",
       "         14        15        16  \n",
       "0 -1.152845 -1.152845 -1.333692  \n",
       "1  0.402783  0.402783  0.749798  \n",
       "2  2.042400  2.042400  0.749798  \n",
       "3  0.862898  0.862898  0.749798  \n",
       "4 -1.021383 -1.021383 -1.333692  "
      ]
     },
     "execution_count": 132,
     "metadata": {},
     "output_type": "execute_result"
    }
   ],
   "source": [
    "from sklearn.preprocessing import StandardScaler\n",
    "\n",
    "scaler = StandardScaler()\n",
    "scaler.fit(lymphoma_data)\n",
    "df_scaled=pd.DataFrame(scaler.transform(lymphoma_data))\n",
    "\n",
    "df_scaled.head()"
   ]
  },
  {
   "cell_type": "code",
   "execution_count": 133,
   "metadata": {},
   "outputs": [
    {
     "data": {
      "text/html": [
       "<div>\n",
       "<style scoped>\n",
       "    .dataframe tbody tr th:only-of-type {\n",
       "        vertical-align: middle;\n",
       "    }\n",
       "\n",
       "    .dataframe tbody tr th {\n",
       "        vertical-align: top;\n",
       "    }\n",
       "\n",
       "    .dataframe thead th {\n",
       "        text-align: right;\n",
       "    }\n",
       "</style>\n",
       "<table border=\"1\" class=\"dataframe\">\n",
       "  <thead>\n",
       "    <tr style=\"text-align: right;\">\n",
       "      <th></th>\n",
       "      <th>PC1</th>\n",
       "      <th>PC2</th>\n",
       "    </tr>\n",
       "  </thead>\n",
       "  <tbody>\n",
       "    <tr>\n",
       "      <td>0</td>\n",
       "      <td>2.187392</td>\n",
       "      <td>0.063237</td>\n",
       "    </tr>\n",
       "    <tr>\n",
       "      <td>1</td>\n",
       "      <td>0.038353</td>\n",
       "      <td>-2.350023</td>\n",
       "    </tr>\n",
       "    <tr>\n",
       "      <td>2</td>\n",
       "      <td>-2.261261</td>\n",
       "      <td>-1.392792</td>\n",
       "    </tr>\n",
       "    <tr>\n",
       "      <td>3</td>\n",
       "      <td>-1.138169</td>\n",
       "      <td>-1.911187</td>\n",
       "    </tr>\n",
       "    <tr>\n",
       "      <td>4</td>\n",
       "      <td>2.610564</td>\n",
       "      <td>-0.817404</td>\n",
       "    </tr>\n",
       "  </tbody>\n",
       "</table>\n",
       "</div>"
      ],
      "text/plain": [
       "        PC1       PC2\n",
       "0  2.187392  0.063237\n",
       "1  0.038353 -2.350023\n",
       "2 -2.261261 -1.392792\n",
       "3 -1.138169 -1.911187\n",
       "4  2.610564 -0.817404"
      ]
     },
     "execution_count": 133,
     "metadata": {},
     "output_type": "execute_result"
    }
   ],
   "source": [
    "from sklearn.decomposition import PCA\n",
    "\n",
    "df_scaled_pca = PCA(n_components=2).fit_transform(df_scaled)\n",
    "df_scaled_pca = pd.DataFrame(df_scaled_pca, columns=[\"PC1\", \"PC2\"])\n",
    "\n",
    "df_scaled_pca.head()"
   ]
  },
  {
   "cell_type": "code",
   "execution_count": 134,
   "metadata": {},
   "outputs": [],
   "source": [
    "from sklearn.linear_model import LogisticRegression\n",
    "from sklearn.ensemble import RandomForestClassifier\n",
    "from sklearn.naive_bayes import BernoulliNB\n",
    "from sklearn.neural_network import MLPClassifier\n",
    "from sklearn.svm import LinearSVC\n",
    "from sklearn.model_selection import train_test_split\n",
    "from sklearn.metrics import f1_score\n",
    "\n",
    "#Function to train with opcion to choice a classifier and return the f1_score\n",
    "def split_clf(X,y,classificator):\n",
    "    if classificator=='NB':\n",
    "        clf = BernoulliNB()\n",
    "    elif classificator=='MLP':\n",
    "        clf = MLPClassifier(activation='tanh', learning_rate_init=.001, random_state=0)\n",
    "    elif classificator=='SVC':   \n",
    "        clf = LinearSVC(random_state=0, tol=1e-5)\n",
    "    elif classificator=='FOREST':\n",
    "        clf = RandomForestClassifier(n_estimators=10,random_state=0)\n",
    "    elif classificator=='LOGR':\n",
    "        clf = LogisticRegression(solver='liblinear',random_state=0)\n",
    "    else:\n",
    "        return None\n",
    "    \n",
    "    X=X.values\n",
    "    list_metrics=[]\n",
    "    list_test_size=[]\n",
    "\n",
    "    for n in np.linspace(0.1,0.9,9):\n",
    "        X_train, X_test, y_train, y_test = train_test_split(X, y, test_size=n, random_state=0)\n",
    "        clf.fit(X_train,y_train)    \n",
    "        pred=clf.predict(X_test)\n",
    "        list_metrics.append(f1_score(y_test,pred))\n",
    "    return list_metrics\n",
    "\n",
    "#Function to plot f1_score for all the classifiers\n",
    "def plt_hold_out(d,y,txt_title):\n",
    "    results=['NB','FOREST','LOGR']\n",
    "    range_=[0.1,0.2,0.3,0.4,0.5,0.6,0.7,0.8,0.9]\n",
    "    lines=[7,5,3]\n",
    "\n",
    "    for no_clus in range(len(results)):\n",
    "        line=plt.plot(range_,split_clf(d,y,results[no_clus]),linewidth=lines[no_clus])\n",
    "    plt.title(txt_title)\n",
    "    plt.xlabel('Data test %')\n",
    "    plt.ylabel('F1 score')\n",
    "    plt.legend(results, loc=4)\n",
    "    plt.show()"
   ]
  },
  {
   "cell_type": "code",
   "execution_count": 136,
   "metadata": {},
   "outputs": [
    {
     "data": {
      "image/png": "[encoded data removed]",
      "text/plain": [
       "<Figure size 432x288 with 1 Axes>"
      ]
     },
     "metadata": {},
     "output_type": "display_data"
    }
   ],
   "source": [
    "#Plot f1_score for each classifier\n",
    "d=df_scaled_pca\n",
    "plt_hold_out(d,y,'Model Selection:  Hold-Out Strategy')"
   ]
  },
  {
   "cell_type": "code",
   "execution_count": 137,
   "metadata": {},
   "outputs": [
    {
     "data": {
      "image/png": "[encoded data removed]",
      "text/plain": [
       "<Figure size 432x288 with 1 Axes>"
      ]
     },
     "metadata": {},
     "output_type": "display_data"
    }
   ],
   "source": [
    "#Plot f1_score for each classifier with scaled data\n",
    "d=df_scaled\n",
    "plt_hold_out(d,y,'Model Selection:  Hold-Out Strategy (Data Scaled)')"
   ]
  },
  {
   "cell_type": "code",
   "execution_count": 138,
   "metadata": {},
   "outputs": [
    {
     "data": {
      "image/png": "[encoded data removed]",
      "text/plain": [
       "<Figure size 432x288 with 1 Axes>"
      ]
     },
     "metadata": {},
     "output_type": "display_data"
    }
   ],
   "source": [
    "#Plot f1_score for each classifier with scaled data and reduction to dimensionality\n",
    "d=df_scaled_pca\n",
    "plt_hold_out(d,y,'Model Selection:  Hold-Out Strategy (Data Scaled and PCA)')"
   ]
  },
  {
   "cell_type": "code",
   "execution_count": 139,
   "metadata": {},
   "outputs": [
    {
     "name": "stdout",
     "output_type": "stream",
     "text": [
      "f1_score:  0.9086294416243654\n"
     ]
    }
   ],
   "source": [
    "clf = BernoulliNB()\n",
    "X_train, X_test, y_train, y_test = train_test_split(df_scaled_pca, y, test_size=0.35, random_state=0)\n",
    "clf.fit(X_train,y_train)    \n",
    "pred=clf.predict(X_test)\n",
    "print('f1_score: ', f1_score(y_test,pred))"
   ]
  },
  {
   "cell_type": "code",
   "execution_count": 140,
   "metadata": {},
   "outputs": [
    {
     "name": "stdout",
     "output_type": "stream",
     "text": [
      "Examples positives: 214 and Examples negatives: 125\n"
     ]
    }
   ],
   "source": [
    "num_positives=y_test.value_counts()[1]\n",
    "num_negatives=y_test.value_counts()[0]\n",
    "print('Examples positives: {} and Examples negatives: {}'.format(num_positives,num_negatives))"
   ]
  },
  {
   "cell_type": "code",
   "execution_count": 152,
   "metadata": {},
   "outputs": [],
   "source": [
    "comp_results=pd.DataFrame(y_test)\n",
    "comp_results['predictions']=pred\n",
    "comp_results=comp_results.sort_values(by='target',ascending=False)"
   ]
  },
  {
   "cell_type": "code",
   "execution_count": 154,
   "metadata": {},
   "outputs": [
    {
     "data": {
      "text/html": [
       "<div>\n",
       "<style scoped>\n",
       "    .dataframe tbody tr th:only-of-type {\n",
       "        vertical-align: middle;\n",
       "    }\n",
       "\n",
       "    .dataframe tbody tr th {\n",
       "        vertical-align: top;\n",
       "    }\n",
       "\n",
       "    .dataframe thead th {\n",
       "        text-align: right;\n",
       "    }\n",
       "</style>\n",
       "<table border=\"1\" class=\"dataframe\">\n",
       "  <thead>\n",
       "    <tr style=\"text-align: right;\">\n",
       "      <th></th>\n",
       "      <th>target</th>\n",
       "      <th>predictions</th>\n",
       "    </tr>\n",
       "  </thead>\n",
       "  <tbody>\n",
       "    <tr>\n",
       "      <td>989</td>\n",
       "      <td>1</td>\n",
       "      <td>1</td>\n",
       "    </tr>\n",
       "    <tr>\n",
       "      <td>115</td>\n",
       "      <td>1</td>\n",
       "      <td>1</td>\n",
       "    </tr>\n",
       "    <tr>\n",
       "      <td>307</td>\n",
       "      <td>1</td>\n",
       "      <td>1</td>\n",
       "    </tr>\n",
       "    <tr>\n",
       "      <td>990</td>\n",
       "      <td>1</td>\n",
       "      <td>1</td>\n",
       "    </tr>\n",
       "    <tr>\n",
       "      <td>540</td>\n",
       "      <td>1</td>\n",
       "      <td>0</td>\n",
       "    </tr>\n",
       "    <tr>\n",
       "      <td>...</td>\n",
       "      <td>...</td>\n",
       "      <td>...</td>\n",
       "    </tr>\n",
       "    <tr>\n",
       "      <td>491</td>\n",
       "      <td>0</td>\n",
       "      <td>0</td>\n",
       "    </tr>\n",
       "    <tr>\n",
       "      <td>987</td>\n",
       "      <td>0</td>\n",
       "      <td>0</td>\n",
       "    </tr>\n",
       "    <tr>\n",
       "      <td>553</td>\n",
       "      <td>0</td>\n",
       "      <td>0</td>\n",
       "    </tr>\n",
       "    <tr>\n",
       "      <td>694</td>\n",
       "      <td>0</td>\n",
       "      <td>0</td>\n",
       "    </tr>\n",
       "    <tr>\n",
       "      <td>5</td>\n",
       "      <td>0</td>\n",
       "      <td>0</td>\n",
       "    </tr>\n",
       "  </tbody>\n",
       "</table>\n",
       "<p>339 rows × 2 columns</p>\n",
       "</div>"
      ],
      "text/plain": [
       "     target  predictions\n",
       "989       1            1\n",
       "115       1            1\n",
       "307       1            1\n",
       "990       1            1\n",
       "540       1            0\n",
       "..      ...          ...\n",
       "491       0            0\n",
       "987       0            0\n",
       "553       0            0\n",
       "694       0            0\n",
       "5         0            0\n",
       "\n",
       "[339 rows x 2 columns]"
      ]
     },
     "execution_count": 154,
     "metadata": {},
     "output_type": "execute_result"
    }
   ],
   "source": [
    "comp_results"
   ]
  },
  {
   "cell_type": "code",
   "execution_count": 156,
   "metadata": {},
   "outputs": [
    {
     "name": "stdout",
     "output_type": "stream",
     "text": [
      "F1 SCORE:  0.9086294416243654\n"
     ]
    }
   ],
   "source": [
    "TP=(comp_results.query('target==predictions and target==1')).shape[0]\n",
    "TN=(comp_results.query('target==predictions and target==0')).shape[0]\n",
    "FP=(comp_results.query('target!=predictions and target==0')).shape[0]\n",
    "FN=(comp_results.query('target!=predictions and target==1')).shape[0]\n",
    "ACC=(TP+TN)/y_test.shape[0]\n",
    "SEN=TP/num_positives\n",
    "ESP=TN/num_negatives\n",
    "PREC=TP/(TP+FP)\n",
    "F1_SCORE= 2 * (PREC * SEN) / (PREC + SEN)\n",
    "print('F1 SCORE: ',F1_SCORE) #we calculated the same value than sklearn"
   ]
  },
  {
   "cell_type": "code",
   "execution_count": 157,
   "metadata": {},
   "outputs": [
    {
     "name": "stdout",
     "output_type": "stream",
     "text": [
      "Confusion Matrix calculated:\n"
     ]
    },
    {
     "data": {
      "text/html": [
       "<div>\n",
       "<style scoped>\n",
       "    .dataframe tbody tr th:only-of-type {\n",
       "        vertical-align: middle;\n",
       "    }\n",
       "\n",
       "    .dataframe tbody tr th {\n",
       "        vertical-align: top;\n",
       "    }\n",
       "\n",
       "    .dataframe thead th {\n",
       "        text-align: right;\n",
       "    }\n",
       "</style>\n",
       "<table border=\"1\" class=\"dataframe\">\n",
       "  <thead>\n",
       "    <tr style=\"text-align: right;\">\n",
       "      <th></th>\n",
       "      <th>POSITIVE CLASS</th>\n",
       "      <th>NEGATIVE CLASS</th>\n",
       "    </tr>\n",
       "  </thead>\n",
       "  <tbody>\n",
       "    <tr>\n",
       "      <td>Prediction POS</td>\n",
       "      <td>179</td>\n",
       "      <td>1</td>\n",
       "    </tr>\n",
       "    <tr>\n",
       "      <td>Prediction NEG</td>\n",
       "      <td>35</td>\n",
       "      <td>124</td>\n",
       "    </tr>\n",
       "  </tbody>\n",
       "</table>\n",
       "</div>"
      ],
      "text/plain": [
       "                POSITIVE CLASS  NEGATIVE CLASS\n",
       "Prediction POS             179               1\n",
       "Prediction NEG              35             124"
      ]
     },
     "execution_count": 157,
     "metadata": {},
     "output_type": "execute_result"
    }
   ],
   "source": [
    "CONFUSION_MATRIX=pd.DataFrame([TP,FN], columns=['POSITIVE CLASS'])\n",
    "CONFUSION_MATRIX['NEGATIVE CLASS']=[FP,TN]\n",
    "new_index=['Prediction POS','Prediction NEG']\n",
    "CONFUSION_MATRIX=CONFUSION_MATRIX.set_index([new_index])\n",
    "print('Confusion Matrix calculated:')\n",
    "CONFUSION_MATRIX"
   ]
  },
  {
   "cell_type": "code",
   "execution_count": 170,
   "metadata": {},
   "outputs": [
    {
     "data": {
      "image/png": "[encoded data removed]",
      "text/plain": [
       "<Figure size 500x500 with 1 Axes>"
      ]
     },
     "metadata": {},
     "output_type": "display_data"
    }
   ],
   "source": [
    "from sklearn.metrics import roc_curve, auc\n",
    "\n",
    "logistic_fpr, logistic_tpr, threshold = roc_curve(y_test, pred)\n",
    "auc_logistic = auc(logistic_fpr, logistic_tpr)\n",
    "\n",
    "\n",
    "plt.figure(figsize=(5, 5), dpi=100)\n",
    "plt.plot([0, 1], [0, 1], color='navy', linestyle='--')\n",
    "plt.plot(logistic_fpr, logistic_tpr, marker='.', color =\"darkorange\",label='ROC Curve Area (area = %0.3f)' % auc_logistic)\n",
    "\n",
    "plt.xlabel('False Positive Rate')\n",
    "plt.ylabel('True Positive Rate')\n",
    "plt.title('Receiver operating characteristic')\n",
    "\n",
    "plt.legend()\n",
    "\n",
    "plt.show()"
   ]
  }
 ],
 "metadata": {
  "hide_input": false,
  "kernelspec": {
   "display_name": "Python 3",
   "language": "python",
   "name": "python3"
  },
  "language_info": {
   "codemirror_mode": {
    "name": "ipython",
    "version": 3
   },
   "file_extension": ".py",
   "mimetype": "text/x-python",
   "name": "python",
   "nbconvert_exporter": "python",
   "pygments_lexer": "ipython3",
   "version": "3.7.4"
  },
  "toc": {
   "base_numbering": 1,
   "nav_menu": {},
   "number_sections": true,
   "sideBar": true,
   "skip_h1_title": false,
   "title_cell": "Table of Contents",
   "title_sidebar": "Contents",
   "toc_cell": false,
   "toc_position": {},
   "toc_section_display": true,
   "toc_window_display": false
  },
  "varInspector": {
   "cols": {
    "lenName": 16,
    "lenType": 16,
    "lenVar": 40
   },
   "kernels_config": {
    "python": {
     "delete_cmd_postfix": "",
     "delete_cmd_prefix": "del ",
     "library": "var_list.py",
     "varRefreshCmd": "print(var_dic_list())"
    },
    "r": {
     "delete_cmd_postfix": ") ",
     "delete_cmd_prefix": "rm(",
     "library": "var_list.r",
     "varRefreshCmd": "cat(var_dic_list()) "
    }
   },
   "types_to_exclude": [
    "module",
    "function",
    "builtin_function_or_method",
    "instance",
    "_Feature"
   ],
   "window_display": false
  }
 },
 "nbformat": 4,
 "nbformat_minor": 4
}
